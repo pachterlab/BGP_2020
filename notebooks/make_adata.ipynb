{
  "nbformat": 4,
  "nbformat_minor": 0,
  "metadata": {
    "kernelspec": {
      "display_name": "Python 3",
      "language": "python",
      "name": "python3"
    },
    "language_info": {
      "codemirror_mode": {
        "name": "ipython",
        "version": 3
      },
      "file_extension": ".py",
      "mimetype": "text/x-python",
      "name": "python",
      "nbconvert_exporter": "python",
      "pygments_lexer": "ipython3",
      "version": "3.7.4"
    },
    "colab": {
      "name": "make_adata.ipynb",
      "provenance": [],
      "include_colab_link": true
    }
  },
  "cells": [
    {
      "cell_type": "markdown",
      "metadata": {
        "id": "view-in-github",
        "colab_type": "text"
      },
      "source": [
        "<a href=\"https://colab.research.google.com/github/pachterlab/BLCSBGLKP_2020/blob/master/notebooks/make_adata.ipynb\" target=\"_parent\"><img src=\"https://colab.research.google.com/assets/colab-badge.svg\" alt=\"Open In Colab\"/></a>"
      ]
    },
    {
      "cell_type": "code",
      "metadata": {
        "id": "opNpg_OKD5bY",
        "colab_type": "code",
        "colab": {
          "base_uri": "https://localhost:8080/",
          "height": 34
        },
        "outputId": "ec4cc59b-6ba9-46c7-de51-fa593cfd5401"
      },
      "source": [
        "!date"
      ],
      "execution_count": 63,
      "outputs": [
        {
          "output_type": "stream",
          "text": [
            "Mon Jun 22 22:16:21 UTC 2020\n"
          ],
          "name": "stdout"
        }
      ]
    },
    {
      "cell_type": "markdown",
      "metadata": {
        "id": "UILUIAYgD5bb",
        "colab_type": "text"
      },
      "source": [
        "# Preprocessing FASTQ files into a sample by gene matrix"
      ]
    },
    {
      "cell_type": "markdown",
      "metadata": {
        "id": "4aIDarz9D5bc",
        "colab_type": "text"
      },
      "source": [
        "### Download files and software"
      ]
    },
    {
      "cell_type": "code",
      "metadata": {
        "id": "vExpzCWnD5bc",
        "colab_type": "code",
        "colab": {
          "base_uri": "https://localhost:8080/",
          "height": 50
        },
        "outputId": "02bf8237-d7d6-4ff0-85d0-22bb018f3800"
      },
      "source": [
        "!git clone https://github.com/pachterlab/BLCSBGLKP_2020.git\n",
        "!mkdir temporary"
      ],
      "execution_count": 64,
      "outputs": [
        {
          "output_type": "stream",
          "text": [
            "fatal: destination path 'BLCSBGLKP_2020' already exists and is not an empty directory.\n",
            "mkdir: cannot create directory ‘temporary’: File exists\n"
          ],
          "name": "stdout"
        }
      ]
    },
    {
      "cell_type": "code",
      "metadata": {
        "id": "jkiPErnkD5bf",
        "colab_type": "code",
        "colab": {}
      },
      "source": [
        "!chmod +x BLCSBGLKP_2020/data/kb/parseSS.py\n",
        "!BLCSBGLKP_2020/data/kb/parseSS.py < BLCSBGLKP_2020/data/kb/SampleSheet.csv > temporary/metadata.txt\n",
        "!cat temporary/metadata.txt | awk '{print $1}' > temporary/whitelist.txt"
      ],
      "execution_count": 65,
      "outputs": []
    },
    {
      "cell_type": "code",
      "metadata": {
        "id": "knfeJHMlD5bi",
        "colab_type": "code",
        "colab": {
          "base_uri": "https://localhost:8080/",
          "height": 306
        },
        "outputId": "e7a651ed-db99-43dd-fa4f-53d91e0fec84"
      },
      "source": [
        "!head -16 BLCSBGLKP_2020/data/kb/SampleSheet.csv"
      ],
      "execution_count": 66,
      "outputs": [
        {
          "output_type": "stream",
          "text": [
            "[Header]\n",
            "IEMFileVersion,5\n",
            "Investigator Name,octantbio\n",
            "Experiment Name,sars_run04\n",
            "Date,200402\n",
            "Workflow,GenerateFASTQ\n",
            "Application,FASTQ Only\n",
            "Instrument Type,NextSeq\n",
            "Chemistry,Amplicon\n",
            "[Reads]\n",
            "75\n",
            "[Settings]\n",
            "\n",
            "[Data]\n",
            "Plate_ID,index2,Twist_RNA_copies,ATCC_RNA_copies,ATCC_virus_copies,spike_copies,lysate,nCoV_amplicon,nCoV_primer_nM,RPP30_primer_nM,RPP30_inner_primer_nM,bc_set,RT_temp,PCR_cycles,Sample_Well,index,Sample_ID\n",
            "Plate1,CAGATCTT,0.0,0.0,0.0,100,NP,N1,400,50,100,N1_S2_RPP30,64,40,A01,GAAGACTC,Plate1-A01\n"
          ],
          "name": "stdout"
        }
      ]
    },
    {
      "cell_type": "code",
      "metadata": {
        "id": "R4IHjpmpD5bl",
        "colab_type": "code",
        "colab": {
          "base_uri": "https://localhost:8080/",
          "height": 50
        },
        "outputId": "0d090160-642b-41c7-a2c7-7dd219b5d77c"
      },
      "source": [
        "!head -1 temporary/metadata.txt\n",
        "!head -1 temporary/whitelist.txt"
      ],
      "execution_count": 67,
      "outputs": [
        {
          "output_type": "stream",
          "text": [
            "GAAGACTCCAGATCTT\tGAAGACTC\tCAGATCTT\tPlate1\tA01\tN1\tNP\t0.0\t0.0\t0.0\n",
            "GAAGACTCCAGATCTT\n"
          ],
          "name": "stdout"
        }
      ]
    },
    {
      "cell_type": "markdown",
      "metadata": {
        "id": "YQZWS1ClD5bn",
        "colab_type": "text"
      },
      "source": [
        "### Install kallisto and bustools from GitHub"
      ]
    },
    {
      "cell_type": "code",
      "metadata": {
        "id": "sSZFZduTD5bo",
        "colab_type": "code",
        "colab": {
          "base_uri": "https://localhost:8080/",
          "height": 538
        },
        "outputId": "e4e837da-d566-4bdd-ca2a-1a5da4d737bf"
      },
      "source": [
        "# We need cmake to install kallisto and bustools from source\n",
        "!apt update\n",
        "!apt install -y cmake\n",
        "!apt-get install autoconf"
      ],
      "execution_count": 68,
      "outputs": [
        {
          "output_type": "stream",
          "text": [
            "\u001b[33m\r0% [Working]\u001b[0m\r            \rHit:1 http://security.ubuntu.com/ubuntu bionic-security InRelease\n",
            "\u001b[33m\r0% [Connecting to archive.ubuntu.com (91.189.88.142)] [Connected to cloud.r-pro\u001b[0m\u001b[33m\r0% [1 InRelease gpgv 88.7 kB] [Connecting to archive.ubuntu.com (91.189.88.142)\u001b[0m\r                                                                               \rIgn:2 https://developer.download.nvidia.com/compute/cuda/repos/ubuntu1804/x86_64  InRelease\n",
            "\u001b[33m\r0% [1 InRelease gpgv 88.7 kB] [Waiting for headers] [Waiting for headers] [Wait\u001b[0m\r                                                                               \rHit:3 https://cloud.r-project.org/bin/linux/ubuntu bionic-cran35/ InRelease\n",
            "\u001b[33m\r0% [1 InRelease gpgv 88.7 kB] [Waiting for headers] [Waiting for headers] [Wait\u001b[0m\r                                                                               \rHit:4 http://ppa.launchpad.net/graphics-drivers/ppa/ubuntu bionic InRelease\n",
            "\u001b[33m\r0% [1 InRelease gpgv 88.7 kB] [Waiting for headers] [Waiting for headers] [Conn\u001b[0m\r                                                                               \rIgn:5 https://developer.download.nvidia.com/compute/machine-learning/repos/ubuntu1804/x86_64  InRelease\n",
            "\u001b[33m\r0% [1 InRelease gpgv 88.7 kB] [Waiting for headers] [Connecting to ppa.launchpa\u001b[0m\r                                                                               \rHit:6 http://archive.ubuntu.com/ubuntu bionic InRelease\n",
            "\u001b[33m\r0% [1 InRelease gpgv 88.7 kB] [Waiting for headers] [Connecting to ppa.launchpa\u001b[0m\r                                                                               \rHit:7 https://developer.download.nvidia.com/compute/cuda/repos/ubuntu1804/x86_64  Release\n",
            "Hit:8 https://developer.download.nvidia.com/compute/machine-learning/repos/ubuntu1804/x86_64  Release\n",
            "Hit:9 http://archive.ubuntu.com/ubuntu bionic-updates InRelease\n",
            "Hit:10 http://ppa.launchpad.net/marutter/c2d4u3.5/ubuntu bionic InRelease\n",
            "Hit:11 http://archive.ubuntu.com/ubuntu bionic-backports InRelease\n",
            "Reading package lists... Done\n",
            "Building dependency tree       \n",
            "Reading state information... Done\n",
            "53 packages can be upgraded. Run 'apt list --upgradable' to see them.\n",
            "Reading package lists... Done\n",
            "Building dependency tree       \n",
            "Reading state information... Done\n",
            "cmake is already the newest version (3.10.2-1ubuntu2.18.04.1).\n",
            "The following package was automatically installed and is no longer required:\n",
            "  libnvidia-common-440\n",
            "Use 'apt autoremove' to remove it.\n",
            "0 upgraded, 0 newly installed, 0 to remove and 53 not upgraded.\n",
            "Reading package lists... Done\n",
            "Building dependency tree       \n",
            "Reading state information... Done\n",
            "autoconf is already the newest version (2.69-11).\n",
            "The following package was automatically installed and is no longer required:\n",
            "  libnvidia-common-440\n",
            "Use 'apt autoremove' to remove it.\n",
            "0 upgraded, 0 newly installed, 0 to remove and 53 not upgraded.\n"
          ],
          "name": "stdout"
        }
      ]
    },
    {
      "cell_type": "code",
      "metadata": {
        "id": "2dG4G0YpD5bq",
        "colab_type": "code",
        "colab": {
          "base_uri": "https://localhost:8080/",
          "height": 235
        },
        "outputId": "e7d1f3bb-716a-486e-c219-6b6b34eb4dc6"
      },
      "source": [
        "!git clone https://github.com/pachterlab/kallisto.git\n",
        "!mv kallisto/ temporary/\n",
        "!cd temporary/kallisto && git checkout covid && mkdir build && cd build && cmake .. && make\n",
        "!chmod +x temporary/kallisto/build/src/kallisto\n",
        "!mv temporary/kallisto/build/src/kallisto /usr/local/bin/"
      ],
      "execution_count": 69,
      "outputs": [
        {
          "output_type": "stream",
          "text": [
            "Cloning into 'kallisto'...\n",
            "remote: Enumerating objects: 60, done.\u001b[K\n",
            "remote: Counting objects:   1% (1/60)\u001b[K\rremote: Counting objects:   3% (2/60)\u001b[K\rremote: Counting objects:   5% (3/60)\u001b[K\rremote: Counting objects:   6% (4/60)\u001b[K\rremote: Counting objects:   8% (5/60)\u001b[K\rremote: Counting objects:  10% (6/60)\u001b[K\rremote: Counting objects:  11% (7/60)\u001b[K\rremote: Counting objects:  13% (8/60)\u001b[K\rremote: Counting objects:  15% (9/60)\u001b[K\rremote: Counting objects:  16% (10/60)\u001b[K\rremote: Counting objects:  18% (11/60)\u001b[K\rremote: Counting objects:  20% (12/60)\u001b[K\rremote: Counting objects:  21% (13/60)\u001b[K\rremote: Counting objects:  23% (14/60)\u001b[K\rremote: Counting objects:  25% (15/60)\u001b[K\rremote: Counting objects:  26% (16/60)\u001b[K\rremote: Counting objects:  28% (17/60)\u001b[K\rremote: Counting objects:  30% (18/60)\u001b[K\rremote: Counting objects:  31% (19/60)\u001b[K\rremote: Counting objects:  33% (20/60)\u001b[K\rremote: Counting objects:  35% (21/60)\u001b[K\rremote: Counting objects:  36% (22/60)\u001b[K\rremote: Counting objects:  38% (23/60)\u001b[K\rremote: Counting objects:  40% (24/60)\u001b[K\rremote: Counting objects:  41% (25/60)\u001b[K\rremote: Counting objects:  43% (26/60)\u001b[K\rremote: Counting objects:  45% (27/60)\u001b[K\rremote: Counting objects:  46% (28/60)\u001b[K\rremote: Counting objects:  48% (29/60)\u001b[K\rremote: Counting objects:  50% (30/60)\u001b[K\rremote: Counting objects:  51% (31/60)\u001b[K\rremote: Counting objects:  53% (32/60)\u001b[K\rremote: Counting objects:  55% (33/60)\u001b[K\rremote: Counting objects:  56% (34/60)\u001b[K\rremote: Counting objects:  58% (35/60)\u001b[K\rremote: Counting objects:  60% (36/60)\u001b[K\rremote: Counting objects:  61% (37/60)\u001b[K\rremote: Counting objects:  63% (38/60)\u001b[K\rremote: Counting objects:  65% (39/60)\u001b[K\rremote: Counting objects:  66% (40/60)\u001b[K\rremote: Counting objects:  68% (41/60)\u001b[K\rremote: Counting objects:  70% (42/60)\u001b[K\rremote: Counting objects:  71% (43/60)\u001b[K\rremote: Counting objects:  73% (44/60)\u001b[K\rremote: Counting objects:  75% (45/60)\u001b[K\rremote: Counting objects:  76% (46/60)\u001b[K\rremote: Counting objects:  78% (47/60)\u001b[K\rremote: Counting objects:  80% (48/60)\u001b[K\rremote: Counting objects:  81% (49/60)\u001b[K\rremote: Counting objects:  83% (50/60)\u001b[K\rremote: Counting objects:  85% (51/60)\u001b[K\rremote: Counting objects:  86% (52/60)\u001b[K\rremote: Counting objects:  88% (53/60)\u001b[K\rremote: Counting objects:  90% (54/60)\u001b[K\rremote: Counting objects:  91% (55/60)\u001b[K\rremote: Counting objects:  93% (56/60)\u001b[K\rremote: Counting objects:  95% (57/60)\u001b[K\rremote: Counting objects:  96% (58/60)\u001b[K\rremote: Counting objects:  98% (59/60)\u001b[K\rremote: Counting objects: 100% (60/60)\u001b[K\rremote: Counting objects: 100% (60/60), done.\u001b[K\n",
            "remote: Compressing objects: 100% (37/37), done.\u001b[K\n",
            "remote: Total 3836 (delta 42), reused 40 (delta 23), pack-reused 3776\u001b[K\n",
            "Receiving objects: 100% (3836/3836), 4.06 MiB | 9.20 MiB/s, done.\n",
            "Resolving deltas: 100% (2494/2494), done.\n",
            "mv: cannot move 'kallisto/' to 'temporary/kallisto': Directory not empty\n",
            "Already on 'covid'\n",
            "Your branch is up to date with 'origin/covid'.\n",
            "mkdir: cannot create directory ‘build’: File exists\n",
            "chmod: cannot access 'temporary/kallisto/build/src/kallisto': No such file or directory\n",
            "mv: cannot stat 'temporary/kallisto/build/src/kallisto': No such file or directory\n"
          ],
          "name": "stdout"
        }
      ]
    },
    {
      "cell_type": "code",
      "metadata": {
        "id": "ea5nZRDOD5bt",
        "colab_type": "code",
        "colab": {
          "base_uri": "https://localhost:8080/",
          "height": 235
        },
        "outputId": "be0ee0a8-7045-4bc5-af64-1878ad9564f5"
      },
      "source": [
        "!git clone https://github.com/BUStools/bustools.git\n",
        "!mv bustools/ temporary/\n",
        "!cd temporary/bustools && git checkout covid && mkdir build && cd build && cmake .. && make\n",
        "!chmod +x temporary/bustools/build/src/bustools\n",
        "!mv temporary/bustools/build/src/bustools /usr/local/bin/"
      ],
      "execution_count": 70,
      "outputs": [
        {
          "output_type": "stream",
          "text": [
            "Cloning into 'bustools'...\n",
            "remote: Enumerating objects: 7, done.\u001b[K\n",
            "remote: Counting objects:  14% (1/7)\u001b[K\rremote: Counting objects:  28% (2/7)\u001b[K\rremote: Counting objects:  42% (3/7)\u001b[K\rremote: Counting objects:  57% (4/7)\u001b[K\rremote: Counting objects:  71% (5/7)\u001b[K\rremote: Counting objects:  85% (6/7)\u001b[K\rremote: Counting objects: 100% (7/7)\u001b[K\rremote: Counting objects: 100% (7/7), done.\u001b[K\n",
            "remote: Compressing objects:  14% (1/7)\u001b[K\rremote: Compressing objects:  28% (2/7)\u001b[K\rremote: Compressing objects:  42% (3/7)\u001b[K\rremote: Compressing objects:  57% (4/7)\u001b[K\rremote: Compressing objects:  71% (5/7)\u001b[K\rremote: Compressing objects:  85% (6/7)\u001b[K\rremote: Compressing objects: 100% (7/7)\u001b[K\rremote: Compressing objects: 100% (7/7), done.\u001b[K\n",
            "Receiving objects:   0% (1/689)   \rReceiving objects:   1% (7/689)   \rReceiving objects:   2% (14/689)   \rReceiving objects:   3% (21/689)   \rReceiving objects:   4% (28/689)   \rReceiving objects:   5% (35/689)   \rReceiving objects:   6% (42/689)   \rReceiving objects:   7% (49/689)   \rReceiving objects:   8% (56/689)   \rReceiving objects:   9% (63/689)   \rReceiving objects:  10% (69/689)   \rReceiving objects:  11% (76/689)   \rReceiving objects:  12% (83/689)   \rReceiving objects:  13% (90/689)   \rReceiving objects:  14% (97/689)   \rReceiving objects:  15% (104/689)   \rReceiving objects:  16% (111/689)   \rReceiving objects:  17% (118/689)   \rReceiving objects:  18% (125/689)   \rReceiving objects:  19% (131/689)   \rReceiving objects:  20% (138/689)   \rReceiving objects:  21% (145/689)   \rReceiving objects:  22% (152/689)   \rReceiving objects:  23% (159/689)   \rReceiving objects:  24% (166/689)   \rReceiving objects:  25% (173/689)   \rReceiving objects:  26% (180/689)   \rReceiving objects:  27% (187/689)   \rReceiving objects:  28% (193/689)   \rReceiving objects:  29% (200/689)   \rReceiving objects:  30% (207/689)   \rReceiving objects:  31% (214/689)   \rReceiving objects:  32% (221/689)   \rReceiving objects:  33% (228/689)   \rReceiving objects:  34% (235/689)   \rReceiving objects:  35% (242/689)   \rReceiving objects:  36% (249/689)   \rReceiving objects:  37% (255/689)   \rReceiving objects:  38% (262/689)   \rReceiving objects:  39% (269/689)   \rReceiving objects:  40% (276/689)   \rReceiving objects:  41% (283/689)   \rremote: Total 689 (delta 0), reused 2 (delta 0), pack-reused 682\u001b[K\n",
            "Receiving objects:  42% (290/689)   \rReceiving objects:  43% (297/689)   \rReceiving objects:  44% (304/689)   \rReceiving objects:  45% (311/689)   \rReceiving objects:  46% (317/689)   \rReceiving objects:  47% (324/689)   \rReceiving objects:  48% (331/689)   \rReceiving objects:  49% (338/689)   \rReceiving objects:  50% (345/689)   \rReceiving objects:  51% (352/689)   \rReceiving objects:  52% (359/689)   \rReceiving objects:  53% (366/689)   \rReceiving objects:  54% (373/689)   \rReceiving objects:  55% (379/689)   \rReceiving objects:  56% (386/689)   \rReceiving objects:  57% (393/689)   \rReceiving objects:  58% (400/689)   \rReceiving objects:  59% (407/689)   \rReceiving objects:  60% (414/689)   \rReceiving objects:  61% (421/689)   \rReceiving objects:  62% (428/689)   \rReceiving objects:  63% (435/689)   \rReceiving objects:  64% (441/689)   \rReceiving objects:  65% (448/689)   \rReceiving objects:  66% (455/689)   \rReceiving objects:  67% (462/689)   \rReceiving objects:  68% (469/689)   \rReceiving objects:  69% (476/689)   \rReceiving objects:  70% (483/689)   \rReceiving objects:  71% (490/689)   \rReceiving objects:  72% (497/689)   \rReceiving objects:  73% (503/689)   \rReceiving objects:  74% (510/689)   \rReceiving objects:  75% (517/689)   \rReceiving objects:  76% (524/689)   \rReceiving objects:  77% (531/689)   \rReceiving objects:  78% (538/689)   \rReceiving objects:  79% (545/689)   \rReceiving objects:  80% (552/689)   \rReceiving objects:  81% (559/689)   \rReceiving objects:  82% (565/689)   \rReceiving objects:  83% (572/689)   \rReceiving objects:  84% (579/689)   \rReceiving objects:  85% (586/689)   \rReceiving objects:  86% (593/689)   \rReceiving objects:  87% (600/689)   \rReceiving objects:  88% (607/689)   \rReceiving objects:  89% (614/689)   \rReceiving objects:  90% (621/689)   \rReceiving objects:  91% (627/689)   \rReceiving objects:  92% (634/689)   \rReceiving objects:  93% (641/689)   \rReceiving objects:  94% (648/689)   \rReceiving objects:  95% (655/689)   \rReceiving objects:  96% (662/689)   \rReceiving objects:  97% (669/689)   \rReceiving objects:  98% (676/689)   \rReceiving objects:  99% (683/689)   \rReceiving objects: 100% (689/689)   \rReceiving objects: 100% (689/689), 522.39 KiB | 8.29 MiB/s, done.\n",
            "Resolving deltas:   0% (0/402)   \rResolving deltas:   1% (5/402)   \rResolving deltas:   3% (14/402)   \rResolving deltas:   5% (24/402)   \rResolving deltas:   6% (25/402)   \rResolving deltas:   8% (35/402)   \rResolving deltas:   9% (37/402)   \rResolving deltas:  10% (43/402)   \rResolving deltas:  13% (53/402)   \rResolving deltas:  15% (61/402)   \rResolving deltas:  18% (75/402)   \rResolving deltas:  20% (82/402)   \rResolving deltas:  22% (89/402)   \rResolving deltas:  24% (98/402)   \rResolving deltas:  25% (101/402)   \rResolving deltas:  31% (126/402)   \rResolving deltas:  33% (133/402)   \rResolving deltas:  37% (149/402)   \rResolving deltas:  45% (183/402)   \rResolving deltas:  46% (188/402)   \rResolving deltas:  55% (223/402)   \rResolving deltas:  57% (233/402)   \rResolving deltas:  59% (240/402)   \rResolving deltas:  61% (249/402)   \rResolving deltas:  65% (262/402)   \rResolving deltas:  67% (271/402)   \rResolving deltas:  72% (291/402)   \rResolving deltas:  79% (321/402)   \rResolving deltas:  80% (323/402)   \rResolving deltas:  82% (333/402)   \rResolving deltas:  88% (354/402)   \rResolving deltas:  90% (364/402)   \rResolving deltas:  91% (367/402)   \rResolving deltas:  92% (373/402)   \rResolving deltas:  93% (377/402)   \rResolving deltas:  94% (378/402)   \rResolving deltas:  97% (391/402)   \rResolving deltas:  98% (395/402)   \rResolving deltas: 100% (402/402)   \rResolving deltas: 100% (402/402), done.\n",
            "mv: cannot move 'bustools/' to 'temporary/bustools': Directory not empty\n",
            "Already on 'covid'\n",
            "Your branch is up to date with 'origin/covid'.\n",
            "mkdir: cannot create directory ‘build’: File exists\n",
            "chmod: cannot access 'temporary/bustools/build/src/bustools': No such file or directory\n",
            "mv: cannot stat 'temporary/bustools/build/src/bustools': No such file or directory\n"
          ],
          "name": "stdout"
        }
      ]
    },
    {
      "cell_type": "code",
      "metadata": {
        "id": "pjLBJ6UID5bv",
        "colab_type": "code",
        "colab": {
          "base_uri": "https://localhost:8080/",
          "height": 50
        },
        "outputId": "d91f37b0-0589-490f-b8fc-86a230cac128"
      },
      "source": [
        "!kallisto version\n",
        "!bustools version"
      ],
      "execution_count": 71,
      "outputs": [
        {
          "output_type": "stream",
          "text": [
            "kallisto, version 0.46.2\n",
            "bustools, version 0.40.0\n"
          ],
          "name": "stdout"
        }
      ]
    },
    {
      "cell_type": "code",
      "metadata": {
        "id": "SNpxzDVED5bx",
        "colab_type": "code",
        "colab": {
          "base_uri": "https://localhost:8080/",
          "height": 1000
        },
        "outputId": "29781982-f571-429f-b16a-6f8c7760d29e"
      },
      "source": [
        "!pip install anndata\n",
        "!pip install git+https://github.com/pachterlab/kb_python@devel"
      ],
      "execution_count": 72,
      "outputs": [
        {
          "output_type": "stream",
          "text": [
            "Requirement already satisfied: anndata in /usr/local/lib/python3.6/dist-packages (0.7.3)\n",
            "Requirement already satisfied: numpy~=1.14 in /usr/local/lib/python3.6/dist-packages (from anndata) (1.18.5)\n",
            "Requirement already satisfied: natsort in /usr/local/lib/python3.6/dist-packages (from anndata) (5.5.0)\n",
            "Requirement already satisfied: pandas>=0.23.0 in /usr/local/lib/python3.6/dist-packages (from anndata) (1.0.5)\n",
            "Requirement already satisfied: packaging in /usr/local/lib/python3.6/dist-packages (from anndata) (20.4)\n",
            "Requirement already satisfied: h5py in /usr/local/lib/python3.6/dist-packages (from anndata) (2.10.0)\n",
            "Requirement already satisfied: scipy~=1.0 in /usr/local/lib/python3.6/dist-packages (from anndata) (1.4.1)\n",
            "Requirement already satisfied: importlib-metadata>=0.7; python_version < \"3.8\" in /usr/local/lib/python3.6/dist-packages (from anndata) (1.6.1)\n",
            "Requirement already satisfied: python-dateutil>=2.6.1 in /usr/local/lib/python3.6/dist-packages (from pandas>=0.23.0->anndata) (2.8.1)\n",
            "Requirement already satisfied: pytz>=2017.2 in /usr/local/lib/python3.6/dist-packages (from pandas>=0.23.0->anndata) (2018.9)\n",
            "Requirement already satisfied: six in /usr/local/lib/python3.6/dist-packages (from packaging->anndata) (1.12.0)\n",
            "Requirement already satisfied: pyparsing>=2.0.2 in /usr/local/lib/python3.6/dist-packages (from packaging->anndata) (2.4.7)\n",
            "Requirement already satisfied: zipp>=0.5 in /usr/local/lib/python3.6/dist-packages (from importlib-metadata>=0.7; python_version < \"3.8\"->anndata) (3.1.0)\n",
            "Collecting git+https://github.com/pachterlab/kb_python@devel\n",
            "  Cloning https://github.com/pachterlab/kb_python (to revision devel) to /tmp/pip-req-build-4o69_mwi\n",
            "  Running command git clone -q https://github.com/pachterlab/kb_python /tmp/pip-req-build-4o69_mwi\n",
            "  Running command git checkout -b devel --track origin/devel\n",
            "  Switched to a new branch 'devel'\n",
            "  Branch 'devel' set up to track remote branch 'devel' from 'origin'.\n",
            "Requirement already satisfied (use --upgrade to upgrade): kb-python==0.24.4 from git+https://github.com/pachterlab/kb_python@devel in /usr/local/lib/python3.6/dist-packages\n",
            "Requirement already satisfied: anndata>=0.6.22.post1 in /usr/local/lib/python3.6/dist-packages (from kb-python==0.24.4) (0.7.3)\n",
            "Requirement already satisfied: h5py>=2.10.0 in /usr/local/lib/python3.6/dist-packages (from kb-python==0.24.4) (2.10.0)\n",
            "Requirement already satisfied: Jinja2>2.10.1 in /usr/local/lib/python3.6/dist-packages (from kb-python==0.24.4) (2.11.2)\n",
            "Requirement already satisfied: loompy>=3.0.6 in /usr/local/lib/python3.6/dist-packages (from kb-python==0.24.4) (3.0.6)\n",
            "Requirement already satisfied: nbconvert>=5.6.0 in /usr/local/lib/python3.6/dist-packages (from kb-python==0.24.4) (5.6.1)\n",
            "Requirement already satisfied: nbformat>=4.4.0 in /usr/local/lib/python3.6/dist-packages (from kb-python==0.24.4) (5.0.7)\n",
            "Requirement already satisfied: numpy>=1.17.2 in /usr/local/lib/python3.6/dist-packages (from kb-python==0.24.4) (1.18.5)\n",
            "Requirement already satisfied: plotly>=4.5.0 in /usr/local/lib/python3.6/dist-packages (from kb-python==0.24.4) (4.8.1)\n",
            "Requirement already satisfied: requests>=2.19.0 in /usr/local/lib/python3.6/dist-packages (from kb-python==0.24.4) (2.23.0)\n",
            "Requirement already satisfied: scanpy>=1.4.4.post1 in /usr/local/lib/python3.6/dist-packages (from kb-python==0.24.4) (1.5.1)\n",
            "Requirement already satisfied: scikit-learn>=0.21.3 in /usr/local/lib/python3.6/dist-packages (from kb-python==0.24.4) (0.22.2.post1)\n",
            "Requirement already satisfied: tqdm>=4.39.0 in /usr/local/lib/python3.6/dist-packages (from kb-python==0.24.4) (4.41.1)\n",
            "Requirement already satisfied: natsort in /usr/local/lib/python3.6/dist-packages (from anndata>=0.6.22.post1->kb-python==0.24.4) (5.5.0)\n",
            "Requirement already satisfied: scipy~=1.0 in /usr/local/lib/python3.6/dist-packages (from anndata>=0.6.22.post1->kb-python==0.24.4) (1.4.1)\n",
            "Requirement already satisfied: packaging in /usr/local/lib/python3.6/dist-packages (from anndata>=0.6.22.post1->kb-python==0.24.4) (20.4)\n",
            "Requirement already satisfied: importlib-metadata>=0.7; python_version < \"3.8\" in /usr/local/lib/python3.6/dist-packages (from anndata>=0.6.22.post1->kb-python==0.24.4) (1.6.1)\n",
            "Requirement already satisfied: pandas>=0.23.0 in /usr/local/lib/python3.6/dist-packages (from anndata>=0.6.22.post1->kb-python==0.24.4) (1.0.5)\n",
            "Requirement already satisfied: six in /usr/local/lib/python3.6/dist-packages (from h5py>=2.10.0->kb-python==0.24.4) (1.12.0)\n",
            "Requirement already satisfied: MarkupSafe>=0.23 in /usr/local/lib/python3.6/dist-packages (from Jinja2>2.10.1->kb-python==0.24.4) (1.1.1)\n",
            "Requirement already satisfied: numba in /usr/local/lib/python3.6/dist-packages (from loompy>=3.0.6->kb-python==0.24.4) (0.48.0)\n",
            "Requirement already satisfied: numpy-groupies in /usr/local/lib/python3.6/dist-packages (from loompy>=3.0.6->kb-python==0.24.4) (0+unknown)\n",
            "Requirement already satisfied: click in /usr/local/lib/python3.6/dist-packages (from loompy>=3.0.6->kb-python==0.24.4) (7.1.2)\n",
            "Requirement already satisfied: setuptools in /usr/local/lib/python3.6/dist-packages (from loompy>=3.0.6->kb-python==0.24.4) (47.3.1)\n",
            "Requirement already satisfied: testpath in /usr/local/lib/python3.6/dist-packages (from nbconvert>=5.6.0->kb-python==0.24.4) (0.4.4)\n",
            "Requirement already satisfied: pandocfilters>=1.4.1 in /usr/local/lib/python3.6/dist-packages (from nbconvert>=5.6.0->kb-python==0.24.4) (1.4.2)\n",
            "Requirement already satisfied: traitlets>=4.2 in /usr/local/lib/python3.6/dist-packages (from nbconvert>=5.6.0->kb-python==0.24.4) (4.3.3)\n",
            "Requirement already satisfied: jupyter-core in /usr/local/lib/python3.6/dist-packages (from nbconvert>=5.6.0->kb-python==0.24.4) (4.6.3)\n",
            "Requirement already satisfied: pygments in /usr/local/lib/python3.6/dist-packages (from nbconvert>=5.6.0->kb-python==0.24.4) (2.1.3)\n",
            "Requirement already satisfied: bleach in /usr/local/lib/python3.6/dist-packages (from nbconvert>=5.6.0->kb-python==0.24.4) (3.1.5)\n",
            "Requirement already satisfied: entrypoints>=0.2.2 in /usr/local/lib/python3.6/dist-packages (from nbconvert>=5.6.0->kb-python==0.24.4) (0.3)\n",
            "Requirement already satisfied: mistune<2,>=0.8.1 in /usr/local/lib/python3.6/dist-packages (from nbconvert>=5.6.0->kb-python==0.24.4) (0.8.4)\n",
            "Requirement already satisfied: defusedxml in /usr/local/lib/python3.6/dist-packages (from nbconvert>=5.6.0->kb-python==0.24.4) (0.6.0)\n",
            "Requirement already satisfied: ipython-genutils in /usr/local/lib/python3.6/dist-packages (from nbformat>=4.4.0->kb-python==0.24.4) (0.2.0)\n",
            "Requirement already satisfied: jsonschema!=2.5.0,>=2.4 in /usr/local/lib/python3.6/dist-packages (from nbformat>=4.4.0->kb-python==0.24.4) (2.6.0)\n",
            "Requirement already satisfied: retrying>=1.3.3 in /usr/local/lib/python3.6/dist-packages (from plotly>=4.5.0->kb-python==0.24.4) (1.3.3)\n",
            "Requirement already satisfied: urllib3!=1.25.0,!=1.25.1,<1.26,>=1.21.1 in /usr/local/lib/python3.6/dist-packages (from requests>=2.19.0->kb-python==0.24.4) (1.24.3)\n",
            "Requirement already satisfied: chardet<4,>=3.0.2 in /usr/local/lib/python3.6/dist-packages (from requests>=2.19.0->kb-python==0.24.4) (3.0.4)\n",
            "Requirement already satisfied: idna<3,>=2.5 in /usr/local/lib/python3.6/dist-packages (from requests>=2.19.0->kb-python==0.24.4) (2.9)\n",
            "Requirement already satisfied: certifi>=2017.4.17 in /usr/local/lib/python3.6/dist-packages (from requests>=2.19.0->kb-python==0.24.4) (2020.4.5.2)\n",
            "Requirement already satisfied: joblib in /usr/local/lib/python3.6/dist-packages (from scanpy>=1.4.4.post1->kb-python==0.24.4) (0.15.1)\n",
            "Requirement already satisfied: networkx in /usr/local/lib/python3.6/dist-packages (from scanpy>=1.4.4.post1->kb-python==0.24.4) (2.4)\n",
            "Requirement already satisfied: umap-learn>=0.3.10 in /usr/local/lib/python3.6/dist-packages (from scanpy>=1.4.4.post1->kb-python==0.24.4) (0.4.4)\n",
            "Requirement already satisfied: tables in /usr/local/lib/python3.6/dist-packages (from scanpy>=1.4.4.post1->kb-python==0.24.4) (3.4.4)\n",
            "Requirement already satisfied: patsy in /usr/local/lib/python3.6/dist-packages (from scanpy>=1.4.4.post1->kb-python==0.24.4) (0.5.1)\n",
            "Requirement already satisfied: seaborn in /usr/local/lib/python3.6/dist-packages (from scanpy>=1.4.4.post1->kb-python==0.24.4) (0.10.1)\n",
            "Requirement already satisfied: setuptools-scm in /usr/local/lib/python3.6/dist-packages (from scanpy>=1.4.4.post1->kb-python==0.24.4) (4.1.2)\n",
            "Requirement already satisfied: legacy-api-wrap in /usr/local/lib/python3.6/dist-packages (from scanpy>=1.4.4.post1->kb-python==0.24.4) (1.2)\n",
            "Requirement already satisfied: matplotlib>=3.1.2 in /usr/local/lib/python3.6/dist-packages (from scanpy>=1.4.4.post1->kb-python==0.24.4) (3.2.2)\n",
            "Requirement already satisfied: statsmodels>=0.10.0rc2 in /usr/local/lib/python3.6/dist-packages (from scanpy>=1.4.4.post1->kb-python==0.24.4) (0.10.2)\n",
            "Requirement already satisfied: pyparsing>=2.0.2 in /usr/local/lib/python3.6/dist-packages (from packaging->anndata>=0.6.22.post1->kb-python==0.24.4) (2.4.7)\n",
            "Requirement already satisfied: zipp>=0.5 in /usr/local/lib/python3.6/dist-packages (from importlib-metadata>=0.7; python_version < \"3.8\"->anndata>=0.6.22.post1->kb-python==0.24.4) (3.1.0)\n",
            "Requirement already satisfied: python-dateutil>=2.6.1 in /usr/local/lib/python3.6/dist-packages (from pandas>=0.23.0->anndata>=0.6.22.post1->kb-python==0.24.4) (2.8.1)\n",
            "Requirement already satisfied: pytz>=2017.2 in /usr/local/lib/python3.6/dist-packages (from pandas>=0.23.0->anndata>=0.6.22.post1->kb-python==0.24.4) (2018.9)\n",
            "Requirement already satisfied: llvmlite<0.32.0,>=0.31.0dev0 in /usr/local/lib/python3.6/dist-packages (from numba->loompy>=3.0.6->kb-python==0.24.4) (0.31.0)\n",
            "Requirement already satisfied: decorator in /usr/local/lib/python3.6/dist-packages (from traitlets>=4.2->nbconvert>=5.6.0->kb-python==0.24.4) (4.4.2)\n",
            "Requirement already satisfied: webencodings in /usr/local/lib/python3.6/dist-packages (from bleach->nbconvert>=5.6.0->kb-python==0.24.4) (0.5.1)\n",
            "Requirement already satisfied: tbb in /usr/local/lib/python3.6/dist-packages (from umap-learn>=0.3.10->scanpy>=1.4.4.post1->kb-python==0.24.4) (2020.0.133)\n",
            "Requirement already satisfied: numexpr>=2.5.2 in /usr/local/lib/python3.6/dist-packages (from tables->scanpy>=1.4.4.post1->kb-python==0.24.4) (2.7.1)\n",
            "Requirement already satisfied: get-version>=2.0.4 in /usr/local/lib/python3.6/dist-packages (from legacy-api-wrap->scanpy>=1.4.4.post1->kb-python==0.24.4) (2.1)\n",
            "Requirement already satisfied: cycler>=0.10 in /usr/local/lib/python3.6/dist-packages (from matplotlib>=3.1.2->scanpy>=1.4.4.post1->kb-python==0.24.4) (0.10.0)\n",
            "Requirement already satisfied: kiwisolver>=1.0.1 in /usr/local/lib/python3.6/dist-packages (from matplotlib>=3.1.2->scanpy>=1.4.4.post1->kb-python==0.24.4) (1.2.0)\n",
            "Building wheels for collected packages: kb-python\n",
            "  Building wheel for kb-python (setup.py) ... \u001b[?25l\u001b[?25hdone\n",
            "  Created wheel for kb-python: filename=kb_python-0.24.4-cp36-none-any.whl size=89701369 sha256=80cbd3705d32321cae540103bed2d799e22504f82d83dbc3d8c4e8af110b154e\n",
            "  Stored in directory: /tmp/pip-ephem-wheel-cache-3vz9d87p/wheels/a6/46/55/077a07e1d3eb5f4647a755e48083fa765311d34faa571b4caa\n",
            "Successfully built kb-python\n"
          ],
          "name": "stdout"
        }
      ]
    },
    {
      "cell_type": "markdown",
      "metadata": {
        "id": "AjMRyXLfD5bz",
        "colab_type": "text"
      },
      "source": [
        "### Make the index"
      ]
    },
    {
      "cell_type": "code",
      "metadata": {
        "id": "C2fqcXmRD5b0",
        "colab_type": "code",
        "colab": {
          "base_uri": "https://localhost:8080/",
          "height": 67
        },
        "outputId": "a4af1967-8471-420f-88cb-6662c085763c"
      },
      "source": [
        "!kb ref -k 11 --workflow kite -i temporary/index.idx -g temporary/t2g.txt -f1 temporary/transcriptome.fa BLCSBGLKP_2020/data/kb/kite_11.txt\n",
        "!rm temporary/index.idx\n",
        "!printf \">RPP30\\nAGATTTGGACCTGCGAGCGGGTTCTGACCTGAAGGCTCTGCGCGGACTTGTGGAGACAGCCGCTC\" >> temporary/transcriptome.fa\n",
        "!printf \"RPP30\\tRPP30\\tRPP30\" >> temporary/t2g.txt"
      ],
      "execution_count": 73,
      "outputs": [
        {
          "output_type": "stream",
          "text": [
            "[2020-06-22 22:17:27,429]    INFO Generating mismatch FASTA at temporary/transcriptome.fa\n",
            "[2020-06-22 22:17:27,561]    INFO Creating transcript-to-gene mapping at temporary/t2g.txt\n",
            "[2020-06-22 22:17:27,563]    INFO Skipping kallisto index because temporary/index.idx already exists. Use the --overwrite flag to overwrite.\n"
          ],
          "name": "stdout"
        }
      ]
    },
    {
      "cell_type": "code",
      "metadata": {
        "id": "lWtHak_3D5b3",
        "colab_type": "code",
        "colab": {
          "base_uri": "https://localhost:8080/",
          "height": 185
        },
        "outputId": "e2efc457-1dac-4546-a6e9-781bf5e77dce"
      },
      "source": [
        "!tail temporary/t2g.txt"
      ],
      "execution_count": 74,
      "outputs": [
        {
          "output_type": "stream",
          "text": [
            "N1_spikein-23.1\tN1_spikein\tN1_spikein\n",
            "N1_spikein-23.2\tN1_spikein\tN1_spikein\n",
            "N1_spikein-23.3\tN1_spikein\tN1_spikein\n",
            "N1_spikein-24.1\tN1_spikein\tN1_spikein\n",
            "N1_spikein-24.2\tN1_spikein\tN1_spikein\n",
            "N1_spikein-24.3\tN1_spikein\tN1_spikein\n",
            "N1_spikein-25.1\tN1_spikein\tN1_spikein\n",
            "N1_spikein-25.2\tN1_spikein\tN1_spikein\n",
            "N1_spikein-25.3\tN1_spikein\tN1_spikein\n",
            "RPP30\tRPP30\tRPP30"
          ],
          "name": "stdout"
        }
      ]
    },
    {
      "cell_type": "markdown",
      "metadata": {
        "colab_type": "text",
        "id": "kP53nGFflevY"
      },
      "source": [
        "### Download the FASTQs"
      ]
    },
    {
      "cell_type": "code",
      "metadata": {
        "colab_type": "code",
        "id": "yLuUaXFwmAKy",
        "colab": {
          "base_uri": "https://localhost:8080/",
          "height": 34
        },
        "outputId": "90118c25-f421-4adb-9015-35c784c4be34"
      },
      "source": [
        "!mkdir temporary/fastqs"
      ],
      "execution_count": 75,
      "outputs": [
        {
          "output_type": "stream",
          "text": [
            "mkdir: cannot create directory ‘temporary/fastqs’: File exists\n"
          ],
          "name": "stdout"
        }
      ]
    },
    {
      "cell_type": "code",
      "metadata": {
        "colab_type": "code",
        "id": "ttktrApalevZ",
        "colab": {}
      },
      "source": [
        "!wget --quiet -O temporary/fastqs/Undetermined_S0_L001_I1_001.fastq.gz https://caltech.box.com/shared/static/3i46orxgtwlaho7f9z255hplg6tvfs6h.gz\n",
        "!wget --quiet -O temporary/fastqs/Undetermined_S0_L001_R2_001.fastq.gz https://caltech.box.com/shared/static/lh0nyo1v95k1s7nvw4zj84yl6jwx3hpg.gz\n",
        "!wget --quiet -O temporary/fastqs/Undetermined_S0_L001_R1_001.fastq.gz https://caltech.box.com/shared/static/0f3h3837xvo2dcqkax67njops5s4zxz0.gz\n",
        "!wget --quiet -O temporary/fastqs/Undetermined_S0_L002_I1_001.fastq.gz https://caltech.box.com/shared/static/rxb4h3owka0x2deh0royge4w55u0bub5.gz\n",
        "!wget --quiet -O temporary/fastqs/Undetermined_S0_L002_R2_001.fastq.gz https://caltech.box.com/shared/static/2eyqb989cohgv4h00mtjj3lrn3tpgi41.gz\n",
        "!wget --quiet -O temporary/fastqs/Undetermined_S0_L002_R1_001.fastq.gz https://caltech.box.com/shared/static/orqpywdlryss9df49tha4i8yywlswrtj.gz\n",
        "!wget --quiet -O temporary/fastqs/Undetermined_S0_L003_I1_001.fastq.gz https://caltech.box.com/shared/static/0r5ezocuh9mzxxj6nsf1fgfl38fdbfye.gz\n",
        "!wget --quiet -O temporary/fastqs/Undetermined_S0_L003_R2_001.fastq.gz https://caltech.box.com/shared/static/d48e56j9qqxo4sveqiwa3lq9bwzxua4f.gz\n",
        "!wget --quiet -O temporary/fastqs/Undetermined_S0_L003_R1_001.fastq.gz https://caltech.box.com/shared/static/7q3xgu2lp2t46638c1rg569duz5kdw9a.gz\n",
        "!wget --quiet -O temporary/fastqs/Undetermined_S0_L004_I1_001.fastq.gz https://caltech.box.com/shared/static/pkgyve9ft7u09du66a0e3r4a3ae4mmhc.gz\n",
        "!wget --quiet -O temporary/fastqs/Undetermined_S0_L004_R2_001.fastq.gz https://caltech.box.com/shared/static/nvfmriwe1891lfqrvedmoko6i5sd0mm6.gz\n",
        "!wget --quiet -O temporary/fastqs/Undetermined_S0_L004_R1_001.fastq.gz https://caltech.box.com/shared/static/krcntl56mgt91ca08qvljfhohh9g197m.gz"
      ],
      "execution_count": 76,
      "outputs": []
    },
    {
      "cell_type": "markdown",
      "metadata": {
        "colab_type": "text",
        "id": "4OojO7oglevb"
      },
      "source": [
        "Check the files"
      ]
    },
    {
      "cell_type": "code",
      "metadata": {
        "colab_type": "code",
        "id": "kL_G2NFilevb",
        "colab": {
          "base_uri": "https://localhost:8080/",
          "height": 118
        },
        "outputId": "17ad82c0-951d-49d9-8993-1ad0fe26b7b9"
      },
      "source": [
        "!zcat temporary/fastqs/Undetermined_S0_L001_I1_001.fastq.gz | awk '(NR-2)%4==0' | head -2\n",
        "!zcat temporary/fastqs/Undetermined_S0_L001_R2_001.fastq.gz | awk '(NR-2)%4==0' | head -2\n",
        "!zcat temporary/fastqs/Undetermined_S0_L001_R1_001.fastq.gz | awk '(NR-2)%4==0' | head -2"
      ],
      "execution_count": 77,
      "outputs": [
        {
          "output_type": "stream",
          "text": [
            "GGGGGGGG\n",
            "GTGCTATC\n",
            "AGATCTCG\n",
            "CATCTGAG\n",
            "GCAGCGTTACCANGATGTTATTTCTT\n",
            "TATCTTCAACCTNGGACTTTTCTATT\n"
          ],
          "name": "stdout"
        }
      ]
    },
    {
      "cell_type": "markdown",
      "metadata": {
        "id": "hW0Qg4kJD5cA",
        "colab_type": "text"
      },
      "source": [
        "# Processing"
      ]
    },
    {
      "cell_type": "markdown",
      "metadata": {
        "id": "06M2WYQRD5cB",
        "colab_type": "text"
      },
      "source": [
        "### Build the kallisto index"
      ]
    },
    {
      "cell_type": "code",
      "metadata": {
        "id": "ytt8jJV6D5cB",
        "colab_type": "code",
        "colab": {
          "base_uri": "https://localhost:8080/",
          "height": 151
        },
        "outputId": "7dad7863-207e-4a63-9002-cd6472d92625"
      },
      "source": [
        "!kallisto index -i temporary/index.idx -k 11 temporary/transcriptome.fa"
      ],
      "execution_count": 78,
      "outputs": [
        {
          "output_type": "stream",
          "text": [
            "\n",
            "[build] loading fasta file temporary/transcriptome.fa\n",
            "[build] k-mer length: 11\n",
            "[build] counting k-mers ... done.\n",
            "[build] building target de Bruijn graph ...  done \n",
            "[build] creating equivalence classes ...  done\n",
            "[build] target de Bruijn graph has 393 contigs and contains 2207 k-mers \n",
            "\n"
          ],
          "name": "stdout"
        }
      ]
    },
    {
      "cell_type": "markdown",
      "metadata": {
        "id": "KNg1VuO7D5cE",
        "colab_type": "text"
      },
      "source": [
        "# Align reads to the reference"
      ]
    },
    {
      "cell_type": "code",
      "metadata": {
        "id": "NJRkE57XD5cF",
        "colab_type": "code",
        "colab": {
          "base_uri": "https://localhost:8080/",
          "height": 386
        },
        "outputId": "cd1a4594-e2a5-4137-cc80-d2ba0bcf0648"
      },
      "source": [
        "%%time\n",
        "# The SwabSeq technology expects the first index, then second, then the biological read. \n",
        "!kallisto bus -x SwabSeq -o temporary/out/ -t 2 -i temporary/index.idx \\\n",
        "temporary/fastqs/Undetermined_S0_L001_I1_001.fastq.gz \\\n",
        "temporary/fastqs/Undetermined_S0_L001_R2_001.fastq.gz \\\n",
        "temporary/fastqs/Undetermined_S0_L001_R1_001.fastq.gz \\\n",
        "temporary/fastqs/Undetermined_S0_L002_I1_001.fastq.gz \\\n",
        "temporary/fastqs/Undetermined_S0_L002_R2_001.fastq.gz \\\n",
        "temporary/fastqs/Undetermined_S0_L002_R1_001.fastq.gz \\\n",
        "temporary/fastqs/Undetermined_S0_L003_I1_001.fastq.gz \\\n",
        "temporary/fastqs/Undetermined_S0_L003_R2_001.fastq.gz \\\n",
        "temporary/fastqs/Undetermined_S0_L003_R1_001.fastq.gz \\\n",
        "temporary/fastqs/Undetermined_S0_L004_I1_001.fastq.gz \\\n",
        "temporary/fastqs/Undetermined_S0_L004_R2_001.fastq.gz \\\n",
        "temporary/fastqs/Undetermined_S0_L004_R1_001.fastq.gz"
      ],
      "execution_count": 79,
      "outputs": [
        {
          "output_type": "stream",
          "text": [
            "\n",
            "[index] k-mer length: 11\n",
            "[index] number of targets: 317\n",
            "[index] number of k-mers: 2,207\n",
            "[index] number of equivalence classes: 397\n",
            "[quant] will process sample 1: temporary/fastqs/Undetermined_S0_L001_I1_001.fastq.gz\n",
            "                               temporary/fastqs/Undetermined_S0_L001_R2_001.fastq.gz\n",
            "                               temporary/fastqs/Undetermined_S0_L001_R1_001.fastq.gz\n",
            "[quant] will process sample 2: temporary/fastqs/Undetermined_S0_L002_I1_001.fastq.gz\n",
            "                               temporary/fastqs/Undetermined_S0_L002_R2_001.fastq.gz\n",
            "                               temporary/fastqs/Undetermined_S0_L002_R1_001.fastq.gz\n",
            "[quant] will process sample 3: temporary/fastqs/Undetermined_S0_L003_I1_001.fastq.gz\n",
            "                               temporary/fastqs/Undetermined_S0_L003_R2_001.fastq.gz\n",
            "                               temporary/fastqs/Undetermined_S0_L003_R1_001.fastq.gz\n",
            "[quant] will process sample 4: temporary/fastqs/Undetermined_S0_L004_I1_001.fastq.gz\n",
            "                               temporary/fastqs/Undetermined_S0_L004_R2_001.fastq.gz\n",
            "                               temporary/fastqs/Undetermined_S0_L004_R1_001.fastq.gz\n",
            "[quant] finding pseudoalignments for the reads ... done\n",
            "[quant] processed 307,494,992 reads, 100,608,712 reads pseudoaligned\n",
            "\n",
            "CPU times: user 1.94 s, sys: 365 ms, total: 2.31 s\n",
            "Wall time: 15min 8s\n"
          ],
          "name": "stdout"
        }
      ]
    },
    {
      "cell_type": "markdown",
      "metadata": {
        "id": "fA0cyZuFD5cH",
        "colab_type": "text"
      },
      "source": [
        "### Process the BUS file"
      ]
    },
    {
      "cell_type": "code",
      "metadata": {
        "id": "bo1A28zPD5cH",
        "colab_type": "code",
        "colab": {
          "base_uri": "https://localhost:8080/",
          "height": 218
        },
        "outputId": "7d601221-62e3-493b-87ff-fc01d551f1b3"
      },
      "source": [
        "# sort the BUS file by barcode\n",
        "!bustools sort -t 2 -m 1G -o temporary/out/sort.bus temporary/out/output.bus\n",
        "# Correct to the barcodes in the whitelist (obtained from the SampleSheet)\n",
        "!bustools correct --split -d temporary/out/dump.txt -w temporary/whitelist.txt  -o temporary/out/sort.correct.bus temporary/out/sort.bus\n",
        "# Sort again to sum the Amplicon counts\n",
        "!bustools sort -t 2 -m 1G -o temporary/out/sort.correct.sort.bus temporary/out/sort.correct.bus\n",
        "\n",
        "# bustools count\n",
        "!mkdir count\n",
        "!bustools count -o ./count/ -g temporary/t2g.txt -e temporary/out/matrix.ec -t temporary/out/transcripts.txt --cm --genecounts temporary/out/sort.correct.sort.bus\n",
        "\n",
        "# Write the sorted bus file out for barcode QC\n",
        "!bustools text -p temporary/out/sort.bus > temporary/out/sort.txt"
      ],
      "execution_count": 80,
      "outputs": [
        {
          "output_type": "stream",
          "text": [
            "tcmalloc: large alloc 1073741824 bytes == 0x55cc73f04000 @  0x7fafab6d5887 0x55cc7333aadd 0x55cc732febe1 0x7fafaa555b97 0x55cc732ffc4a\n",
            "Read in 100608712 BUS records\n",
            "Found 8,96 barcodes in the half whitelists\n",
            "Processed 1746590 BUS records\n",
            "In whitelist = 47021\n",
            "Corrected 1  = 165662\n",
            "Corrected 2  = 65776\n",
            "Uncorrected  = 1468131\n",
            "tcmalloc: large alloc 1073741824 bytes == 0x55ec07d16000 @  0x7f40fba51887 0x55ec05c15add 0x55ec05bd9be1 0x7f40fa8d1b97 0x55ec05bdac4a\n",
            "Read in 278459 BUS records\n",
            "mkdir: cannot create directory ‘count’: File exists\n",
            "Read in 1746590 BUS records\n"
          ],
          "name": "stdout"
        }
      ]
    },
    {
      "cell_type": "code",
      "metadata": {
        "id": "x5e-mNAkD5cJ",
        "colab_type": "code",
        "colab": {}
      },
      "source": [
        "import pandas as pd\n",
        "import numpy as np\n",
        "import matplotlib.pyplot as plt\n",
        "import string\n",
        "import anndata\n",
        "from collections import defaultdict, OrderedDict\n",
        "from sklearn.preprocessing import normalize, scale\n",
        "from sklearn.decomposition import TruncatedSVD\n",
        "\n",
        "def nd(arr):\n",
        "    return np.asarray(arr).reshape(-1)\n",
        "\n",
        "def yex(ax):\n",
        "    lims = [\n",
        "        np.min([ax.get_xlim(), ax.get_ylim()]),  # min of both axes\n",
        "        np.max([ax.get_xlim(), ax.get_ylim()]),  # max of both axes\n",
        "    ]\n",
        "    \n",
        "    # now plot both limits against eachother\n",
        "    ax.plot(lims, lims, 'k-', alpha=0.75, zorder=0)\n",
        "    ax.set_aspect('equal')\n",
        "    ax.set_xlim(lims)\n",
        "    ax.set_ylim(lims)\n",
        "    return ax\n",
        "\n",
        "fsize=15\n",
        "\n",
        "plt.rcParams.update({'font.size': fsize})\n",
        "%config InlineBackend.figure_format = 'retina'"
      ],
      "execution_count": 81,
      "outputs": []
    },
    {
      "cell_type": "markdown",
      "metadata": {
        "id": "nBB38BITD5cM",
        "colab_type": "text"
      },
      "source": [
        "# Load Files"
      ]
    },
    {
      "cell_type": "markdown",
      "metadata": {
        "id": "6ERdYXzHD5cN",
        "colab_type": "text"
      },
      "source": [
        "### BUS file into matrix"
      ]
    },
    {
      "cell_type": "code",
      "metadata": {
        "id": "1Q14poQrGBej",
        "colab_type": "code",
        "colab": {}
      },
      "source": [
        "from kb_python.utils import import_matrix_as_anndata"
      ],
      "execution_count": 82,
      "outputs": []
    },
    {
      "cell_type": "code",
      "metadata": {
        "id": "-DxAw2uiGUP-",
        "colab_type": "code",
        "colab": {}
      },
      "source": [
        "adata = import_matrix_as_anndata('count/output.mtx', 'count/output.barcodes.txt', 'count/output.genes.txt')"
      ],
      "execution_count": 110,
      "outputs": []
    },
    {
      "cell_type": "markdown",
      "metadata": {
        "id": "U_xwRxayD5ce",
        "colab_type": "text"
      },
      "source": [
        "### Plate Metadeta (from SampleSheet)"
      ]
    },
    {
      "cell_type": "code",
      "metadata": {
        "id": "2CijNE0ED5ce",
        "colab_type": "code",
        "colab": {
          "base_uri": "https://localhost:8080/",
          "height": 225
        },
        "outputId": "c4290628-c1af-4def-cc38-4ce200e51566"
      },
      "source": [
        "# I switch index 1 and index 2 since they are swapped in the BUS file\n",
        "pmap = pd.read_csv(\"temporary/metadata.txt\", sep=\"\\t\", header=None, names=[\"bcs\", \"i1\", \"i2\", \"plate\", \"well\", \"gene\", \"lysate\", \"Twist\", \"ATCC_RNA\", \"ATCC_viral\"], index_col=0)\n",
        "pmap[\"bcs\"] = pmap[\"i1\"] + pmap[\"i2\"]\n",
        "pmap.index = pmap[\"bcs\"]\n",
        "pmap.head()"
      ],
      "execution_count": 111,
      "outputs": [
        {
          "output_type": "execute_result",
          "data": {
            "text/html": [
              "<div>\n",
              "<style scoped>\n",
              "    .dataframe tbody tr th:only-of-type {\n",
              "        vertical-align: middle;\n",
              "    }\n",
              "\n",
              "    .dataframe tbody tr th {\n",
              "        vertical-align: top;\n",
              "    }\n",
              "\n",
              "    .dataframe thead th {\n",
              "        text-align: right;\n",
              "    }\n",
              "</style>\n",
              "<table border=\"1\" class=\"dataframe\">\n",
              "  <thead>\n",
              "    <tr style=\"text-align: right;\">\n",
              "      <th></th>\n",
              "      <th>i1</th>\n",
              "      <th>i2</th>\n",
              "      <th>plate</th>\n",
              "      <th>well</th>\n",
              "      <th>gene</th>\n",
              "      <th>lysate</th>\n",
              "      <th>Twist</th>\n",
              "      <th>ATCC_RNA</th>\n",
              "      <th>ATCC_viral</th>\n",
              "      <th>bcs</th>\n",
              "    </tr>\n",
              "    <tr>\n",
              "      <th>bcs</th>\n",
              "      <th></th>\n",
              "      <th></th>\n",
              "      <th></th>\n",
              "      <th></th>\n",
              "      <th></th>\n",
              "      <th></th>\n",
              "      <th></th>\n",
              "      <th></th>\n",
              "      <th></th>\n",
              "      <th></th>\n",
              "    </tr>\n",
              "  </thead>\n",
              "  <tbody>\n",
              "    <tr>\n",
              "      <th>GAAGACTCCAGATCTT</th>\n",
              "      <td>GAAGACTC</td>\n",
              "      <td>CAGATCTT</td>\n",
              "      <td>Plate1</td>\n",
              "      <td>A01</td>\n",
              "      <td>N1</td>\n",
              "      <td>NP</td>\n",
              "      <td>0.0</td>\n",
              "      <td>0.0</td>\n",
              "      <td>0.000000</td>\n",
              "      <td>GAAGACTCCAGATCTT</td>\n",
              "    </tr>\n",
              "    <tr>\n",
              "      <th>GAAGACTCTCATGACA</th>\n",
              "      <td>GAAGACTC</td>\n",
              "      <td>TCATGACA</td>\n",
              "      <td>Plate1</td>\n",
              "      <td>A02</td>\n",
              "      <td>N1</td>\n",
              "      <td>NP</td>\n",
              "      <td>0.0</td>\n",
              "      <td>0.0</td>\n",
              "      <td>0.000000</td>\n",
              "      <td>GAAGACTCTCATGACA</td>\n",
              "    </tr>\n",
              "    <tr>\n",
              "      <th>GATAGAACCAGATCTT</th>\n",
              "      <td>GATAGAAC</td>\n",
              "      <td>CAGATCTT</td>\n",
              "      <td>Plate1</td>\n",
              "      <td>A03</td>\n",
              "      <td>N1</td>\n",
              "      <td>NP</td>\n",
              "      <td>0.0</td>\n",
              "      <td>0.0</td>\n",
              "      <td>0.071127</td>\n",
              "      <td>GATAGAACCAGATCTT</td>\n",
              "    </tr>\n",
              "    <tr>\n",
              "      <th>GATAGAACTCATGACA</th>\n",
              "      <td>GATAGAAC</td>\n",
              "      <td>TCATGACA</td>\n",
              "      <td>Plate1</td>\n",
              "      <td>A04</td>\n",
              "      <td>N1</td>\n",
              "      <td>NP</td>\n",
              "      <td>0.0</td>\n",
              "      <td>0.0</td>\n",
              "      <td>0.071127</td>\n",
              "      <td>GATAGAACTCATGACA</td>\n",
              "    </tr>\n",
              "    <tr>\n",
              "      <th>TTGGCCCACAGATCTT</th>\n",
              "      <td>TTGGCCCA</td>\n",
              "      <td>CAGATCTT</td>\n",
              "      <td>Plate1</td>\n",
              "      <td>A05</td>\n",
              "      <td>N1</td>\n",
              "      <td>NP</td>\n",
              "      <td>0.0</td>\n",
              "      <td>0.0</td>\n",
              "      <td>0.213382</td>\n",
              "      <td>TTGGCCCACAGATCTT</td>\n",
              "    </tr>\n",
              "  </tbody>\n",
              "</table>\n",
              "</div>"
            ],
            "text/plain": [
              "                        i1        i2  ... ATCC_viral               bcs\n",
              "bcs                                   ...                             \n",
              "GAAGACTCCAGATCTT  GAAGACTC  CAGATCTT  ...   0.000000  GAAGACTCCAGATCTT\n",
              "GAAGACTCTCATGACA  GAAGACTC  TCATGACA  ...   0.000000  GAAGACTCTCATGACA\n",
              "GATAGAACCAGATCTT  GATAGAAC  CAGATCTT  ...   0.071127  GATAGAACCAGATCTT\n",
              "GATAGAACTCATGACA  GATAGAAC  TCATGACA  ...   0.071127  GATAGAACTCATGACA\n",
              "TTGGCCCACAGATCTT  TTGGCCCA  CAGATCTT  ...   0.213382  TTGGCCCACAGATCTT\n",
              "\n",
              "[5 rows x 10 columns]"
            ]
          },
          "metadata": {
            "tags": []
          },
          "execution_count": 111
        }
      ]
    },
    {
      "cell_type": "markdown",
      "metadata": {
        "id": "0SakI01dD5cg",
        "colab_type": "text"
      },
      "source": [
        "# Filter BUS file and add relevant metadata"
      ]
    },
    {
      "cell_type": "code",
      "metadata": {
        "id": "1BHzclI-D5cj",
        "colab_type": "code",
        "colab": {}
      },
      "source": [
        "\n",
        "adata.obs[\"plate\"]      = adata.obs.index.map(pmap[\"plate\"])\n",
        "adata.obs[\"well\"]       = adata.obs.index.map(pmap[\"well\"])\n",
        "adata.obs[\"lysate\"]     = adata.obs.index.map(pmap[\"lysate\"])\n",
        "adata.obs[\"Twist\"]      = adata.obs.index.map(pmap[\"Twist\"])\n",
        "adata.obs[\"ATCC_RNA\"]   = adata.obs.index.map(pmap[\"ATCC_RNA\"])\n",
        "adata.obs[\"ATCC_viral\"] = adata.obs.index.map(pmap[\"ATCC_viral\"])\n",
        "\n",
        "# Drop the barcodes that do not have metadata (keep only ones in the platemap)\n",
        "#nodup = nodup.loc[nodup[\"ATCC_RNA\"].dropna().index].sort_values(\"bcs\")"
      ],
      "execution_count": 112,
      "outputs": []
    },
    {
      "cell_type": "code",
      "metadata": {
        "id": "hSi5LHs_P3UW",
        "colab_type": "code",
        "colab": {
          "base_uri": "https://localhost:8080/",
          "height": 431
        },
        "outputId": "cb52c896-83bd-481c-f2d3-c892294e3d75"
      },
      "source": [
        "adata.obs"
      ],
      "execution_count": 113,
      "outputs": [
        {
          "output_type": "execute_result",
          "data": {
            "text/html": [
              "<div>\n",
              "<style scoped>\n",
              "    .dataframe tbody tr th:only-of-type {\n",
              "        vertical-align: middle;\n",
              "    }\n",
              "\n",
              "    .dataframe tbody tr th {\n",
              "        vertical-align: top;\n",
              "    }\n",
              "\n",
              "    .dataframe thead th {\n",
              "        text-align: right;\n",
              "    }\n",
              "</style>\n",
              "<table border=\"1\" class=\"dataframe\">\n",
              "  <thead>\n",
              "    <tr style=\"text-align: right;\">\n",
              "      <th></th>\n",
              "      <th>plate</th>\n",
              "      <th>well</th>\n",
              "      <th>lysate</th>\n",
              "      <th>Twist</th>\n",
              "      <th>ATCC_RNA</th>\n",
              "      <th>ATCC_viral</th>\n",
              "    </tr>\n",
              "    <tr>\n",
              "      <th>barcode</th>\n",
              "      <th></th>\n",
              "      <th></th>\n",
              "      <th></th>\n",
              "      <th></th>\n",
              "      <th></th>\n",
              "      <th></th>\n",
              "    </tr>\n",
              "  </thead>\n",
              "  <tbody>\n",
              "    <tr>\n",
              "      <th>AACGACATAATCTTGC</th>\n",
              "      <td>Plate2</td>\n",
              "      <td>D12</td>\n",
              "      <td>NP</td>\n",
              "      <td>0.0</td>\n",
              "      <td>0.0</td>\n",
              "      <td>5.761317</td>\n",
              "    </tr>\n",
              "    <tr>\n",
              "      <th>AACGACATAGTTGCGC</th>\n",
              "      <td>Plate1</td>\n",
              "      <td>D12</td>\n",
              "      <td>NP</td>\n",
              "      <td>0.0</td>\n",
              "      <td>0.0</td>\n",
              "      <td>5.761317</td>\n",
              "    </tr>\n",
              "    <tr>\n",
              "      <th>AACGACATCAGATCTT</th>\n",
              "      <td>Plate1</td>\n",
              "      <td>C11</td>\n",
              "      <td>NP</td>\n",
              "      <td>0.0</td>\n",
              "      <td>0.0</td>\n",
              "      <td>5.761317</td>\n",
              "    </tr>\n",
              "    <tr>\n",
              "      <th>AACGACATCAGATTAC</th>\n",
              "      <td>Plate2</td>\n",
              "      <td>D11</td>\n",
              "      <td>NP</td>\n",
              "      <td>0.0</td>\n",
              "      <td>0.0</td>\n",
              "      <td>5.761317</td>\n",
              "    </tr>\n",
              "    <tr>\n",
              "      <th>AACGACATCATCTGAG</th>\n",
              "      <td>Plate2</td>\n",
              "      <td>C12</td>\n",
              "      <td>NP</td>\n",
              "      <td>0.0</td>\n",
              "      <td>0.0</td>\n",
              "      <td>5.761317</td>\n",
              "    </tr>\n",
              "    <tr>\n",
              "      <th>...</th>\n",
              "      <td>...</td>\n",
              "      <td>...</td>\n",
              "      <td>...</td>\n",
              "      <td>...</td>\n",
              "      <td>...</td>\n",
              "      <td>...</td>\n",
              "    </tr>\n",
              "    <tr>\n",
              "      <th>TTGGCCCACAGATTAC</th>\n",
              "      <td>Plate2</td>\n",
              "      <td>B05</td>\n",
              "      <td>NP</td>\n",
              "      <td>0.0</td>\n",
              "      <td>0.0</td>\n",
              "      <td>0.213382</td>\n",
              "    </tr>\n",
              "    <tr>\n",
              "      <th>TTGGCCCACATCTGAG</th>\n",
              "      <td>Plate2</td>\n",
              "      <td>A06</td>\n",
              "      <td>NP</td>\n",
              "      <td>0.0</td>\n",
              "      <td>0.0</td>\n",
              "      <td>0.213382</td>\n",
              "    </tr>\n",
              "    <tr>\n",
              "      <th>TTGGCCCACTGTTACA</th>\n",
              "      <td>Plate1</td>\n",
              "      <td>B05</td>\n",
              "      <td>NP</td>\n",
              "      <td>0.0</td>\n",
              "      <td>0.0</td>\n",
              "      <td>0.213382</td>\n",
              "    </tr>\n",
              "    <tr>\n",
              "      <th>TTGGCCCAGAGGGCAT</th>\n",
              "      <td>Plate2</td>\n",
              "      <td>A05</td>\n",
              "      <td>NP</td>\n",
              "      <td>0.0</td>\n",
              "      <td>0.0</td>\n",
              "      <td>0.213382</td>\n",
              "    </tr>\n",
              "    <tr>\n",
              "      <th>TTGGCCCATCATGACA</th>\n",
              "      <td>Plate1</td>\n",
              "      <td>A06</td>\n",
              "      <td>NP</td>\n",
              "      <td>0.0</td>\n",
              "      <td>0.0</td>\n",
              "      <td>0.213382</td>\n",
              "    </tr>\n",
              "  </tbody>\n",
              "</table>\n",
              "<p>768 rows × 6 columns</p>\n",
              "</div>"
            ],
            "text/plain": [
              "                   plate well lysate  Twist  ATCC_RNA  ATCC_viral\n",
              "barcode                                                          \n",
              "AACGACATAATCTTGC  Plate2  D12     NP    0.0       0.0    5.761317\n",
              "AACGACATAGTTGCGC  Plate1  D12     NP    0.0       0.0    5.761317\n",
              "AACGACATCAGATCTT  Plate1  C11     NP    0.0       0.0    5.761317\n",
              "AACGACATCAGATTAC  Plate2  D11     NP    0.0       0.0    5.761317\n",
              "AACGACATCATCTGAG  Plate2  C12     NP    0.0       0.0    5.761317\n",
              "...                  ...  ...    ...    ...       ...         ...\n",
              "TTGGCCCACAGATTAC  Plate2  B05     NP    0.0       0.0    0.213382\n",
              "TTGGCCCACATCTGAG  Plate2  A06     NP    0.0       0.0    0.213382\n",
              "TTGGCCCACTGTTACA  Plate1  B05     NP    0.0       0.0    0.213382\n",
              "TTGGCCCAGAGGGCAT  Plate2  A05     NP    0.0       0.0    0.213382\n",
              "TTGGCCCATCATGACA  Plate1  A06     NP    0.0       0.0    0.213382\n",
              "\n",
              "[768 rows x 6 columns]"
            ]
          },
          "metadata": {
            "tags": []
          },
          "execution_count": 113
        }
      ]
    },
    {
      "cell_type": "code",
      "metadata": {
        "id": "A9hYIhLTQI0a",
        "colab_type": "code",
        "colab": {
          "base_uri": "https://localhost:8080/",
          "height": 235
        },
        "outputId": "665653e6-0d59-495b-f3af-1721cdd7c2f6"
      },
      "source": [
        "adata.obs.eval('plate==\"Plate1\"')"
      ],
      "execution_count": 114,
      "outputs": [
        {
          "output_type": "execute_result",
          "data": {
            "text/plain": [
              "barcode\n",
              "AACGACATAATCTTGC    False\n",
              "AACGACATAGTTGCGC     True\n",
              "AACGACATCAGATCTT     True\n",
              "AACGACATCAGATTAC    False\n",
              "AACGACATCATCTGAG    False\n",
              "                    ...  \n",
              "TTGGCCCACAGATTAC    False\n",
              "TTGGCCCACATCTGAG    False\n",
              "TTGGCCCACTGTTACA     True\n",
              "TTGGCCCAGAGGGCAT    False\n",
              "TTGGCCCATCATGACA     True\n",
              "Length: 768, dtype: bool"
            ]
          },
          "metadata": {
            "tags": []
          },
          "execution_count": 114
        }
      ]
    },
    {
      "cell_type": "code",
      "metadata": {
        "id": "iv865xtfQPlT",
        "colab_type": "code",
        "colab": {
          "base_uri": "https://localhost:8080/",
          "height": 50
        },
        "outputId": "dd333c9f-5be7-4ae7-adfa-dbc682608d7f"
      },
      "source": [
        "adata.X"
      ],
      "execution_count": 115,
      "outputs": [
        {
          "output_type": "execute_result",
          "data": {
            "text/plain": [
              "<768x5 sparse matrix of type '<class 'numpy.float32'>'\n",
              "\twith 2584 stored elements in Compressed Sparse Row format>"
            ]
          },
          "metadata": {
            "tags": []
          },
          "execution_count": 115
        }
      ]
    },
    {
      "cell_type": "code",
      "metadata": {
        "id": "TZNfqJmGD5co",
        "colab_type": "code",
        "colab": {
          "base_uri": "https://localhost:8080/",
          "height": 34
        },
        "outputId": "fef399e1-79e8-44c7-fd8f-8d12e5c61def"
      },
      "source": [
        "adata.X.todense()[adata.obs.eval('plate==\"Plate1\"')].sum()"
      ],
      "execution_count": 116,
      "outputs": [
        {
          "output_type": "execute_result",
          "data": {
            "text/plain": [
              "32428986.0"
            ]
          },
          "metadata": {
            "tags": []
          },
          "execution_count": 116
        }
      ]
    },
    {
      "cell_type": "code",
      "metadata": {
        "id": "gB4zrLWtD5cr",
        "colab_type": "code",
        "colab": {
          "base_uri": "https://localhost:8080/",
          "height": 34
        },
        "outputId": "f227d746-8103-442b-9bf6-217934703a5c"
      },
      "source": [
        "adata.X.todense()[adata.obs.eval('plate==\"Plate2\"')].sum()"
      ],
      "execution_count": 117,
      "outputs": [
        {
          "output_type": "execute_result",
          "data": {
            "text/plain": [
              "43071430.0"
            ]
          },
          "metadata": {
            "tags": []
          },
          "execution_count": 117
        }
      ]
    },
    {
      "cell_type": "code",
      "metadata": {
        "id": "Z0AOwwt4D5cs",
        "colab_type": "code",
        "colab": {
          "base_uri": "https://localhost:8080/",
          "height": 34
        },
        "outputId": "6a3b92a2-3e0b-4b9f-a905-8d73529c9f54"
      },
      "source": [
        "adata.X.sum()"
      ],
      "execution_count": 118,
      "outputs": [
        {
          "output_type": "execute_result",
          "data": {
            "text/plain": [
              "75500424.0"
            ]
          },
          "metadata": {
            "tags": []
          },
          "execution_count": 118
        }
      ]
    },
    {
      "cell_type": "code",
      "metadata": {
        "id": "8hBfFC5dD5dA",
        "colab_type": "code",
        "colab": {}
      },
      "source": [
        "adata.obs[\"Twist_bool\"] = np.logical_and(adata.obs.ATCC_viral.values==0, adata.obs.ATCC_RNA.values==0)\n",
        "adata.obs[\"ATCC_viral_bool\"] = np.logical_and(adata.obs.Twist.values==0, adata.obs.ATCC_RNA.values==0)\n",
        "adata.obs[\"ATCC_RNA_bool\"] = np.logical_and(adata.obs.Twist.values==0, adata.obs.ATCC_viral.values==0)"
      ],
      "execution_count": 119,
      "outputs": []
    },
    {
      "cell_type": "code",
      "metadata": {
        "id": "P6r9J-9VD5dC",
        "colab_type": "code",
        "colab": {
          "base_uri": "https://localhost:8080/",
          "height": 209
        },
        "outputId": "52b0e221-954e-4e65-83c3-dff3693130e4"
      },
      "source": [
        "adata.var"
      ],
      "execution_count": 120,
      "outputs": [
        {
          "output_type": "execute_result",
          "data": {
            "text/html": [
              "<div>\n",
              "<style scoped>\n",
              "    .dataframe tbody tr th:only-of-type {\n",
              "        vertical-align: middle;\n",
              "    }\n",
              "\n",
              "    .dataframe tbody tr th {\n",
              "        vertical-align: top;\n",
              "    }\n",
              "\n",
              "    .dataframe thead th {\n",
              "        text-align: right;\n",
              "    }\n",
              "</style>\n",
              "<table border=\"1\" class=\"dataframe\">\n",
              "  <thead>\n",
              "    <tr style=\"text-align: right;\">\n",
              "      <th></th>\n",
              "    </tr>\n",
              "    <tr>\n",
              "      <th>gene_id</th>\n",
              "    </tr>\n",
              "  </thead>\n",
              "  <tbody>\n",
              "    <tr>\n",
              "      <th>S2</th>\n",
              "    </tr>\n",
              "    <tr>\n",
              "      <th>S2_spikein</th>\n",
              "    </tr>\n",
              "    <tr>\n",
              "      <th>N1</th>\n",
              "    </tr>\n",
              "    <tr>\n",
              "      <th>N1_spikein</th>\n",
              "    </tr>\n",
              "    <tr>\n",
              "      <th>RPP30</th>\n",
              "    </tr>\n",
              "  </tbody>\n",
              "</table>\n",
              "</div>"
            ],
            "text/plain": [
              "Empty DataFrame\n",
              "Columns: []\n",
              "Index: [S2, S2_spikein, N1, N1_spikein, RPP30]"
            ]
          },
          "metadata": {
            "tags": []
          },
          "execution_count": 120
        }
      ]
    },
    {
      "cell_type": "markdown",
      "metadata": {
        "id": "9dIYV8W_D5dD",
        "colab_type": "text"
      },
      "source": [
        "# Normalize per well (CPM), Log1p, Scale columns"
      ]
    },
    {
      "cell_type": "code",
      "metadata": {
        "id": "TlhcvygHQk6T",
        "colab_type": "code",
        "colab": {}
      },
      "source": [
        "adata.X = adata.X.todense()"
      ],
      "execution_count": 121,
      "outputs": []
    },
    {
      "cell_type": "code",
      "metadata": {
        "id": "d3_53ePmD5dE",
        "colab_type": "code",
        "colab": {}
      },
      "source": [
        "adata.layers[\"raw\"] = adata.X\n",
        "scale_num = 1000000\n",
        "adata.layers[\"norm\"] = normalize(adata.X, norm=\"l1\", axis=1)*scale_num\n",
        "adata.layers[\"log1p\"] = np.log1p(adata.layers[\"norm\"])\n",
        "adata.uns = OrderedDict([(\"log1p\", {\"base\":None})])\n",
        "adata.X = adata.layers[\"log1p\"]\n",
        "adata.layers[\"scale\"] = scale(adata.layers[\"log1p\"], axis=0, with_mean=True, with_std=True, copy=True)\n",
        "adata.X = adata.layers[\"scale\"]"
      ],
      "execution_count": 122,
      "outputs": []
    },
    {
      "cell_type": "markdown",
      "metadata": {
        "id": "_PmGHQfsD5dF",
        "colab_type": "text"
      },
      "source": [
        "# Make PCA"
      ]
    },
    {
      "cell_type": "code",
      "metadata": {
        "id": "_oS6ZVZsD5dG",
        "colab_type": "code",
        "colab": {
          "base_uri": "https://localhost:8080/",
          "height": 50
        },
        "outputId": "24332230-ed36-44aa-9587-ae6642239587"
      },
      "source": [
        "%%time\n",
        "# PCA\n",
        "X = adata.layers[\"scale\"]\n",
        "\n",
        "tsvd = TruncatedSVD(n_components=2)\n",
        "adata.obsm[\"X_pca\"] = tsvd.fit_transform(X)"
      ],
      "execution_count": 123,
      "outputs": [
        {
          "output_type": "stream",
          "text": [
            "CPU times: user 3.04 ms, sys: 2.98 ms, total: 6.02 ms\n",
            "Wall time: 3.99 ms\n"
          ],
          "name": "stdout"
        }
      ]
    },
    {
      "cell_type": "code",
      "metadata": {
        "id": "9DD5Fd3QD5dI",
        "colab_type": "code",
        "colab": {
          "base_uri": "https://localhost:8080/",
          "height": 502
        },
        "outputId": "b06cb900-5537-4c1f-87b2-b94f4318fe4b"
      },
      "source": [
        "fig, ax = plt.subplots(figsize=(7,7))\n",
        "\n",
        "x = adata.obsm[\"X_pca\"][:,0]\n",
        "y = adata.obsm[\"X_pca\"][:,1]\n",
        "c = adata.obs[\"plate\"].astype(\"category\").cat.codes.astype(int)\n",
        "\n",
        "ax.scatter(x, y, c = c, cmap='nipy_spectral')\n",
        "\n",
        "ax.set_axis_off()\n",
        "\n",
        "plt.tight_layout()\n",
        "plt.show()"
      ],
      "execution_count": 124,
      "outputs": [
        {
          "output_type": "display_data",
          "data": {
            "image/png": "[encoded data removed]",
            "text/plain": [
              "<Figure size 504x504 with 1 Axes>"
            ]
          },
          "metadata": {
            "tags": [],
            "image/png": {
              "width": 485,
              "height": 485
            },
            "needs_background": "light"
          }
        }
      ]
    },
    {
      "cell_type": "markdown",
      "metadata": {
        "id": "QNpov8zGD5dK",
        "colab_type": "text"
      },
      "source": [
        "# Write anndata"
      ]
    },
    {
      "cell_type": "code",
      "metadata": {
        "id": "e6_TA59-D5dK",
        "colab_type": "code",
        "colab": {
          "base_uri": "https://localhost:8080/",
          "height": 67
        },
        "outputId": "c281784f-7f93-437f-ca0c-6f8242ed5a14"
      },
      "source": [
        "adata.write(\"temporary/adata.h5ad\")"
      ],
      "execution_count": 125,
      "outputs": [
        {
          "output_type": "stream",
          "text": [
            "... storing 'plate' as categorical\n",
            "... storing 'well' as categorical\n",
            "... storing 'lysate' as categorical\n"
          ],
          "name": "stderr"
        }
      ]
    },
    {
      "cell_type": "markdown",
      "metadata": {
        "id": "MR8UVlBBD5dN",
        "colab_type": "text"
      },
      "source": [
        "# Barcode QC"
      ]
    },
    {
      "cell_type": "markdown",
      "metadata": {
        "id": "oNAgsXzRD5dN",
        "colab_type": "text"
      },
      "source": [
        "We will use the RPP30 gene to check that the whitelist barcode has the top most counts compared to its hamming one distance variants. This is a great QC to ensure that there are no problems with the barcodes. Since the reference contains no shared sequences of 11, each \"gene\" corresponds to one equivalence class. We will use equivalence class 4 which corresponds to the RPP30 gene."
      ]
    },
    {
      "cell_type": "code",
      "metadata": {
        "id": "iw_IeAYND5dN",
        "colab_type": "code",
        "colab": {}
      },
      "source": [
        "s = pd.read_csv(\"temporary/out/sort.txt\", header=None, names=[\"bcs\", \"umi\", \"ecs\", \"cnt\"], sep=\"\\t\")\n",
        "\n",
        "s = s[s[\"ecs\"] == 316]"
      ],
      "execution_count": 126,
      "outputs": []
    },
    {
      "cell_type": "code",
      "metadata": {
        "id": "MwWlyc-zD5dQ",
        "colab_type": "code",
        "colab": {}
      },
      "source": [
        "m = pd.read_csv(\"temporary/out/dump.txt\", header=None, names=[\"old\", \"new\"], sep=\"\\t\")\n",
        "\n",
        "m = m.sort_values(\"new\")\n",
        "\n",
        "m[\"plate\"]      = m[\"new\"].map(pmap[\"plate\"])\n",
        "m[\"plate\"]      = m[\"new\"].map(pmap[\"plate\"])\n",
        "m[\"well\"]       = m[\"new\"].map(pmap[\"well\"])\n",
        "m[\"lysate\"]     = m[\"new\"].map(pmap[\"lysate\"])\n",
        "m[\"gene\"]       = m[\"new\"].map(pmap[\"gene\"])\n",
        "m[\"Twist\"]      = m[\"new\"].map(pmap[\"Twist\"])\n",
        "m[\"ATCC_RNA\"]   = m[\"new\"].map(pmap[\"ATCC_RNA\"])\n",
        "m[\"ATCC_viral\"] = m[\"new\"].map(pmap[\"ATCC_viral\"])\n",
        "\n",
        "m[\"old_cnt\"] = m[\"old\"].map(s.groupby(\"bcs\")[\"cnt\"].sum())\n",
        "m[\"new_cnt\"] = m[\"new\"].map(s.groupby(\"bcs\")[\"cnt\"].sum())"
      ],
      "execution_count": 127,
      "outputs": []
    },
    {
      "cell_type": "code",
      "metadata": {
        "id": "iicRNzjYD5dT",
        "colab_type": "code",
        "colab": {}
      },
      "source": [
        "m = m.dropna(subset=[\"old_cnt\"])"
      ],
      "execution_count": 128,
      "outputs": []
    },
    {
      "cell_type": "code",
      "metadata": {
        "id": "ounHSYXZD5dW",
        "colab_type": "code",
        "colab": {}
      },
      "source": [
        "bad = m[m[\"old_cnt\"] > m[\"new_cnt\"]]"
      ],
      "execution_count": 129,
      "outputs": []
    },
    {
      "cell_type": "markdown",
      "metadata": {
        "id": "yISor1rzD5dX",
        "colab_type": "text"
      },
      "source": [
        "### We find that many barcodes have less counts than there hamming distance variants"
      ]
    },
    {
      "cell_type": "code",
      "metadata": {
        "id": "CwRsIWkRD5dX",
        "colab_type": "code",
        "colab": {
          "base_uri": "https://localhost:8080/",
          "height": 34
        },
        "outputId": "108c2c2a-2dba-4e23-fdf2-ad33298ac7e0"
      },
      "source": [
        "bad.new.unique().shape"
      ],
      "execution_count": 130,
      "outputs": [
        {
          "output_type": "execute_result",
          "data": {
            "text/plain": [
              "(197,)"
            ]
          },
          "metadata": {
            "tags": []
          },
          "execution_count": 130
        }
      ]
    },
    {
      "cell_type": "code",
      "metadata": {
        "id": "Gq2fnDo_D5dZ",
        "colab_type": "code",
        "colab": {
          "base_uri": "https://localhost:8080/",
          "height": 402
        },
        "outputId": "729e6616-960b-468d-c369-e4f59bc62adc"
      },
      "source": [
        "bad[[\"old\", \"new\",\"plate\", \"well\", \"lysate\", \"old_cnt\", \"new_cnt\"]]"
      ],
      "execution_count": 131,
      "outputs": [
        {
          "output_type": "execute_result",
          "data": {
            "text/html": [
              "<div>\n",
              "<style scoped>\n",
              "    .dataframe tbody tr th:only-of-type {\n",
              "        vertical-align: middle;\n",
              "    }\n",
              "\n",
              "    .dataframe tbody tr th {\n",
              "        vertical-align: top;\n",
              "    }\n",
              "\n",
              "    .dataframe thead th {\n",
              "        text-align: right;\n",
              "    }\n",
              "</style>\n",
              "<table border=\"1\" class=\"dataframe\">\n",
              "  <thead>\n",
              "    <tr style=\"text-align: right;\">\n",
              "      <th></th>\n",
              "      <th>old</th>\n",
              "      <th>new</th>\n",
              "      <th>plate</th>\n",
              "      <th>well</th>\n",
              "      <th>lysate</th>\n",
              "      <th>old_cnt</th>\n",
              "      <th>new_cnt</th>\n",
              "    </tr>\n",
              "  </thead>\n",
              "  <tbody>\n",
              "    <tr>\n",
              "      <th>20976</th>\n",
              "      <td>CACGACATGATCTTGC</td>\n",
              "      <td>AACGACATAATCTTGC</td>\n",
              "      <td>Plate2</td>\n",
              "      <td>D12</td>\n",
              "      <td>NP</td>\n",
              "      <td>3.0</td>\n",
              "      <td>1.0</td>\n",
              "    </tr>\n",
              "    <tr>\n",
              "      <th>20967</th>\n",
              "      <td>CACGACATAATCTTGC</td>\n",
              "      <td>AACGACATAATCTTGC</td>\n",
              "      <td>Plate2</td>\n",
              "      <td>D12</td>\n",
              "      <td>NP</td>\n",
              "      <td>93.0</td>\n",
              "      <td>1.0</td>\n",
              "    </tr>\n",
              "    <tr>\n",
              "      <th>4622</th>\n",
              "      <td>ACCGACATAATCTTGC</td>\n",
              "      <td>AACGACATAATCTTGC</td>\n",
              "      <td>Plate2</td>\n",
              "      <td>D12</td>\n",
              "      <td>NP</td>\n",
              "      <td>3.0</td>\n",
              "      <td>1.0</td>\n",
              "    </tr>\n",
              "    <tr>\n",
              "      <th>4629</th>\n",
              "      <td>ACCGACATCAGATCTT</td>\n",
              "      <td>AACGACATCAGATCTT</td>\n",
              "      <td>Plate1</td>\n",
              "      <td>C11</td>\n",
              "      <td>NP</td>\n",
              "      <td>4.0</td>\n",
              "      <td>2.0</td>\n",
              "    </tr>\n",
              "    <tr>\n",
              "      <th>20970</th>\n",
              "      <td>CACGACATCAGATCTT</td>\n",
              "      <td>AACGACATCAGATCTT</td>\n",
              "      <td>Plate1</td>\n",
              "      <td>C11</td>\n",
              "      <td>NP</td>\n",
              "      <td>85.0</td>\n",
              "      <td>2.0</td>\n",
              "    </tr>\n",
              "    <tr>\n",
              "      <th>...</th>\n",
              "      <td>...</td>\n",
              "      <td>...</td>\n",
              "      <td>...</td>\n",
              "      <td>...</td>\n",
              "      <td>...</td>\n",
              "      <td>...</td>\n",
              "      <td>...</td>\n",
              "    </tr>\n",
              "    <tr>\n",
              "      <th>77105</th>\n",
              "      <td>TTGGCCAACATCTGAG</td>\n",
              "      <td>TTGGCCCACATCTGAG</td>\n",
              "      <td>Plate2</td>\n",
              "      <td>A06</td>\n",
              "      <td>NP</td>\n",
              "      <td>5.0</td>\n",
              "      <td>2.0</td>\n",
              "    </tr>\n",
              "    <tr>\n",
              "      <th>77351</th>\n",
              "      <td>TTGGCCTATCATGACA</td>\n",
              "      <td>TTGGCCCATCATGACA</td>\n",
              "      <td>Plate1</td>\n",
              "      <td>A06</td>\n",
              "      <td>NP</td>\n",
              "      <td>2.0</td>\n",
              "      <td>1.0</td>\n",
              "    </tr>\n",
              "    <tr>\n",
              "      <th>72727</th>\n",
              "      <td>TGGGCCCATCATGACA</td>\n",
              "      <td>TTGGCCCATCATGACA</td>\n",
              "      <td>Plate1</td>\n",
              "      <td>A06</td>\n",
              "      <td>NP</td>\n",
              "      <td>90.0</td>\n",
              "      <td>1.0</td>\n",
              "    </tr>\n",
              "    <tr>\n",
              "      <th>77112</th>\n",
              "      <td>TTGGCCAATCATGACA</td>\n",
              "      <td>TTGGCCCATCATGACA</td>\n",
              "      <td>Plate1</td>\n",
              "      <td>A06</td>\n",
              "      <td>NP</td>\n",
              "      <td>3.0</td>\n",
              "      <td>1.0</td>\n",
              "    </tr>\n",
              "    <tr>\n",
              "      <th>75347</th>\n",
              "      <td>TTAGCCCATCATGACA</td>\n",
              "      <td>TTGGCCCATCATGACA</td>\n",
              "      <td>Plate1</td>\n",
              "      <td>A06</td>\n",
              "      <td>NP</td>\n",
              "      <td>8.0</td>\n",
              "      <td>1.0</td>\n",
              "    </tr>\n",
              "  </tbody>\n",
              "</table>\n",
              "<p>400 rows × 7 columns</p>\n",
              "</div>"
            ],
            "text/plain": [
              "                    old               new   plate well lysate  old_cnt  new_cnt\n",
              "20976  CACGACATGATCTTGC  AACGACATAATCTTGC  Plate2  D12     NP      3.0      1.0\n",
              "20967  CACGACATAATCTTGC  AACGACATAATCTTGC  Plate2  D12     NP     93.0      1.0\n",
              "4622   ACCGACATAATCTTGC  AACGACATAATCTTGC  Plate2  D12     NP      3.0      1.0\n",
              "4629   ACCGACATCAGATCTT  AACGACATCAGATCTT  Plate1  C11     NP      4.0      2.0\n",
              "20970  CACGACATCAGATCTT  AACGACATCAGATCTT  Plate1  C11     NP     85.0      2.0\n",
              "...                 ...               ...     ...  ...    ...      ...      ...\n",
              "77105  TTGGCCAACATCTGAG  TTGGCCCACATCTGAG  Plate2  A06     NP      5.0      2.0\n",
              "77351  TTGGCCTATCATGACA  TTGGCCCATCATGACA  Plate1  A06     NP      2.0      1.0\n",
              "72727  TGGGCCCATCATGACA  TTGGCCCATCATGACA  Plate1  A06     NP     90.0      1.0\n",
              "77112  TTGGCCAATCATGACA  TTGGCCCATCATGACA  Plate1  A06     NP      3.0      1.0\n",
              "75347  TTAGCCCATCATGACA  TTGGCCCATCATGACA  Plate1  A06     NP      8.0      1.0\n",
              "\n",
              "[400 rows x 7 columns]"
            ]
          },
          "metadata": {
            "tags": []
          },
          "execution_count": 131
        }
      ]
    },
    {
      "cell_type": "markdown",
      "metadata": {
        "id": "ObhLHFr1D5db",
        "colab_type": "text"
      },
      "source": [
        "## An example of an abberant barcode"
      ]
    },
    {
      "cell_type": "code",
      "metadata": {
        "id": "BY91VHhgD5db",
        "colab_type": "code",
        "colab": {
          "base_uri": "https://localhost:8080/",
          "height": 432
        },
        "outputId": "0bdfbe91-0899-4125-dd3e-8d244dd01d9b"
      },
      "source": [
        "bad[bad[\"new\"] == \"AGCCAAGAGAGGGCAT\"][[\"old\", \"new\",\"plate\", \"well\", \"lysate\", \"old_cnt\", \"new_cnt\"]]"
      ],
      "execution_count": 132,
      "outputs": [
        {
          "output_type": "execute_result",
          "data": {
            "text/html": [
              "<div>\n",
              "<style scoped>\n",
              "    .dataframe tbody tr th:only-of-type {\n",
              "        vertical-align: middle;\n",
              "    }\n",
              "\n",
              "    .dataframe tbody tr th {\n",
              "        vertical-align: top;\n",
              "    }\n",
              "\n",
              "    .dataframe thead th {\n",
              "        text-align: right;\n",
              "    }\n",
              "</style>\n",
              "<table border=\"1\" class=\"dataframe\">\n",
              "  <thead>\n",
              "    <tr style=\"text-align: right;\">\n",
              "      <th></th>\n",
              "      <th>old</th>\n",
              "      <th>new</th>\n",
              "      <th>plate</th>\n",
              "      <th>well</th>\n",
              "      <th>lysate</th>\n",
              "      <th>old_cnt</th>\n",
              "      <th>new_cnt</th>\n",
              "    </tr>\n",
              "  </thead>\n",
              "  <tbody>\n",
              "    <tr>\n",
              "      <th>29417</th>\n",
              "      <td>CGCCAAGAGCGGGCAT</td>\n",
              "      <td>AGCCAAGAGAGGGCAT</td>\n",
              "      <td>Plate2</td>\n",
              "      <td>E11</td>\n",
              "      <td>NP</td>\n",
              "      <td>8.0</td>\n",
              "      <td>3.0</td>\n",
              "    </tr>\n",
              "    <tr>\n",
              "      <th>29395</th>\n",
              "      <td>CGCCAAGAGAGAGCAT</td>\n",
              "      <td>AGCCAAGAGAGGGCAT</td>\n",
              "      <td>Plate2</td>\n",
              "      <td>E11</td>\n",
              "      <td>NP</td>\n",
              "      <td>4.0</td>\n",
              "      <td>3.0</td>\n",
              "    </tr>\n",
              "    <tr>\n",
              "      <th>29409</th>\n",
              "      <td>CGCCAAGAGAGGGGAT</td>\n",
              "      <td>AGCCAAGAGAGGGCAT</td>\n",
              "      <td>Plate2</td>\n",
              "      <td>E11</td>\n",
              "      <td>NP</td>\n",
              "      <td>4.0</td>\n",
              "      <td>3.0</td>\n",
              "    </tr>\n",
              "    <tr>\n",
              "      <th>29368</th>\n",
              "      <td>CGCCAAGACAGGGCAT</td>\n",
              "      <td>AGCCAAGAGAGGGCAT</td>\n",
              "      <td>Plate2</td>\n",
              "      <td>E11</td>\n",
              "      <td>NP</td>\n",
              "      <td>10.0</td>\n",
              "      <td>3.0</td>\n",
              "    </tr>\n",
              "    <tr>\n",
              "      <th>29407</th>\n",
              "      <td>CGCCAAGAGAGGGCGT</td>\n",
              "      <td>AGCCAAGAGAGGGCAT</td>\n",
              "      <td>Plate2</td>\n",
              "      <td>E11</td>\n",
              "      <td>NP</td>\n",
              "      <td>5.0</td>\n",
              "      <td>3.0</td>\n",
              "    </tr>\n",
              "    <tr>\n",
              "      <th>29313</th>\n",
              "      <td>CGCCAAGAAAGGGCAT</td>\n",
              "      <td>AGCCAAGAGAGGGCAT</td>\n",
              "      <td>Plate2</td>\n",
              "      <td>E11</td>\n",
              "      <td>NP</td>\n",
              "      <td>2689.0</td>\n",
              "      <td>3.0</td>\n",
              "    </tr>\n",
              "    <tr>\n",
              "      <th>29405</th>\n",
              "      <td>CGCCAAGAGAGGGCAT</td>\n",
              "      <td>AGCCAAGAGAGGGCAT</td>\n",
              "      <td>Plate2</td>\n",
              "      <td>E11</td>\n",
              "      <td>NP</td>\n",
              "      <td>9563.0</td>\n",
              "      <td>3.0</td>\n",
              "    </tr>\n",
              "    <tr>\n",
              "      <th>29404</th>\n",
              "      <td>CGCCAAGAGAGGGCAG</td>\n",
              "      <td>AGCCAAGAGAGGGCAT</td>\n",
              "      <td>Plate2</td>\n",
              "      <td>E11</td>\n",
              "      <td>NP</td>\n",
              "      <td>13.0</td>\n",
              "      <td>3.0</td>\n",
              "    </tr>\n",
              "    <tr>\n",
              "      <th>29402</th>\n",
              "      <td>CGCCAAGAGAGGGCAA</td>\n",
              "      <td>AGCCAAGAGAGGGCAT</td>\n",
              "      <td>Plate2</td>\n",
              "      <td>E11</td>\n",
              "      <td>NP</td>\n",
              "      <td>5.0</td>\n",
              "      <td>3.0</td>\n",
              "    </tr>\n",
              "    <tr>\n",
              "      <th>29408</th>\n",
              "      <td>CGCCAAGAGAGGGCTT</td>\n",
              "      <td>AGCCAAGAGAGGGCAT</td>\n",
              "      <td>Plate2</td>\n",
              "      <td>E11</td>\n",
              "      <td>NP</td>\n",
              "      <td>27.0</td>\n",
              "      <td>3.0</td>\n",
              "    </tr>\n",
              "    <tr>\n",
              "      <th>12476</th>\n",
              "      <td>AGTCAAGAAAGGGCAT</td>\n",
              "      <td>AGCCAAGAGAGGGCAT</td>\n",
              "      <td>Plate2</td>\n",
              "      <td>E11</td>\n",
              "      <td>NP</td>\n",
              "      <td>7.0</td>\n",
              "      <td>3.0</td>\n",
              "    </tr>\n",
              "    <tr>\n",
              "      <th>29418</th>\n",
              "      <td>CGCCAAGAGGGGGCAT</td>\n",
              "      <td>AGCCAAGAGAGGGCAT</td>\n",
              "      <td>Plate2</td>\n",
              "      <td>E11</td>\n",
              "      <td>NP</td>\n",
              "      <td>6.0</td>\n",
              "      <td>3.0</td>\n",
              "    </tr>\n",
              "    <tr>\n",
              "      <th>29423</th>\n",
              "      <td>CGCCAAGATAGGGCAT</td>\n",
              "      <td>AGCCAAGAGAGGGCAT</td>\n",
              "      <td>Plate2</td>\n",
              "      <td>E11</td>\n",
              "      <td>NP</td>\n",
              "      <td>94.0</td>\n",
              "      <td>3.0</td>\n",
              "    </tr>\n",
              "  </tbody>\n",
              "</table>\n",
              "</div>"
            ],
            "text/plain": [
              "                    old               new   plate well lysate  old_cnt  new_cnt\n",
              "29417  CGCCAAGAGCGGGCAT  AGCCAAGAGAGGGCAT  Plate2  E11     NP      8.0      3.0\n",
              "29395  CGCCAAGAGAGAGCAT  AGCCAAGAGAGGGCAT  Plate2  E11     NP      4.0      3.0\n",
              "29409  CGCCAAGAGAGGGGAT  AGCCAAGAGAGGGCAT  Plate2  E11     NP      4.0      3.0\n",
              "29368  CGCCAAGACAGGGCAT  AGCCAAGAGAGGGCAT  Plate2  E11     NP     10.0      3.0\n",
              "29407  CGCCAAGAGAGGGCGT  AGCCAAGAGAGGGCAT  Plate2  E11     NP      5.0      3.0\n",
              "29313  CGCCAAGAAAGGGCAT  AGCCAAGAGAGGGCAT  Plate2  E11     NP   2689.0      3.0\n",
              "29405  CGCCAAGAGAGGGCAT  AGCCAAGAGAGGGCAT  Plate2  E11     NP   9563.0      3.0\n",
              "29404  CGCCAAGAGAGGGCAG  AGCCAAGAGAGGGCAT  Plate2  E11     NP     13.0      3.0\n",
              "29402  CGCCAAGAGAGGGCAA  AGCCAAGAGAGGGCAT  Plate2  E11     NP      5.0      3.0\n",
              "29408  CGCCAAGAGAGGGCTT  AGCCAAGAGAGGGCAT  Plate2  E11     NP     27.0      3.0\n",
              "12476  AGTCAAGAAAGGGCAT  AGCCAAGAGAGGGCAT  Plate2  E11     NP      7.0      3.0\n",
              "29418  CGCCAAGAGGGGGCAT  AGCCAAGAGAGGGCAT  Plate2  E11     NP      6.0      3.0\n",
              "29423  CGCCAAGATAGGGCAT  AGCCAAGAGAGGGCAT  Plate2  E11     NP     94.0      3.0"
            ]
          },
          "metadata": {
            "tags": []
          },
          "execution_count": 132
        }
      ]
    },
    {
      "cell_type": "code",
      "metadata": {
        "id": "vYmmnSOnD5de",
        "colab_type": "code",
        "colab": {}
      },
      "source": [
        ""
      ],
      "execution_count": null,
      "outputs": []
    }
  ]
}