{
  "nbformat": 4,
  "nbformat_minor": 0,
  "metadata": {
    "kernelspec": {
      "display_name": "Python 3",
      "language": "python",
      "name": "python3"
    },
    "language_info": {
      "codemirror_mode": {
        "name": "ipython",
        "version": 3
      },
      "file_extension": ".py",
      "mimetype": "text/x-python",
      "name": "python",
      "nbconvert_exporter": "python",
      "pygments_lexer": "ipython3",
      "version": "3.7.4"
    },
    "colab": {
      "name": "trbseq.ipynb",
      "provenance": [],
      "toc_visible": true,
      "include_colab_link": true
    }
  },
  "cells": [
    {
      "cell_type": "markdown",
      "metadata": {
        "id": "view-in-github",
        "colab_type": "text"
      },
      "source": [
        "<a href=\"https://colab.research.google.com/github/pachterlab/BLCSBGLKP_2020/blob/master/notebooks/trbseq.ipynb\" target=\"_parent\"><img src=\"https://colab.research.google.com/assets/colab-badge.svg\" alt=\"Open In Colab\"/></a>"
      ]
    },
    {
      "cell_type": "code",
      "metadata": {
        "id": "A9-ktf8UBgIt",
        "outputId": "65fbd6d2-c08d-4c4b-d6fc-0360aa283005",
        "colab": {
          "base_uri": "https://localhost:8080/"
        }
      },
      "source": [
        "!date"
      ],
      "execution_count": 1,
      "outputs": [
        {
          "output_type": "stream",
          "text": [
            "Mon Nov  2 20:33:05 UTC 2020\n"
          ],
          "name": "stdout"
        }
      ]
    },
    {
      "cell_type": "code",
      "metadata": {
        "id": "lIe6NePOBgIx",
        "outputId": "3ec31b07-c52e-4751-fa6a-57b547b60cff",
        "colab": {
          "base_uri": "https://localhost:8080/"
        }
      },
      "source": [
        "!git clone https://github.com/pachterlab/BLCSBGLKP_2020.git\n",
        "!mkdir temporary"
      ],
      "execution_count": 2,
      "outputs": [
        {
          "output_type": "stream",
          "text": [
            "Cloning into 'BLCSBGLKP_2020'...\n",
            "remote: Enumerating objects: 232, done.\u001b[K\n",
            "remote: Counting objects: 100% (232/232), done.\u001b[K\n",
            "remote: Compressing objects: 100% (213/213), done.\u001b[K\n",
            "remote: Total 232 (delta 85), reused 85 (delta 14), pack-reused 0\u001b[K\n",
            "Receiving objects: 100% (232/232), 42.23 MiB | 27.10 MiB/s, done.\n",
            "Resolving deltas: 100% (85/85), done.\n"
          ],
          "name": "stdout"
        }
      ]
    },
    {
      "cell_type": "markdown",
      "metadata": {
        "id": "BsSTbzUJBgI0"
      },
      "source": [
        "# TRBSeq comparison"
      ]
    },
    {
      "cell_type": "markdown",
      "metadata": {
        "id": "row_RrvIBgI1"
      },
      "source": [
        "N1 GACCCCAAAATCAGCGAAATG CACCCCGCATTACGTTTGGTGGACCCTCAGATTCAACTGGCAGTAACCAGAATGGAGAACGC\n",
        "   GACCCCAAAATCAGCGAAATG\n",
        "   (Forward primer)\n",
        "N2 AAGGAACTGATTACAAACATTGGC CGCAAATTGCACAATTTGCCCCCAGCGCTTCAGCGTTCTTCGGAATGTCGCGCATTGGCATGGAAGTCA\n",
        "   AAGGAACTGATTACAAACATTGGC\n",
        "   (Forward primer)\n",
        "Rpp30 GATTTGGACCTGCGAGCG GGTTCTGACCTGAAGGCTCTGCGCGGACTTGTGGAGACAGCCGCTC\n",
        "      GATTTGGACCTGCGAGCG\n",
        "      (Forward primer)"
      ]
    },
    {
      "cell_type": "code",
      "metadata": {
        "id": "f-teG6dbBgI1",
        "outputId": "fa3bd5f7-480d-4499-9431-13130b80f4fd",
        "colab": {
          "base_uri": "https://localhost:8080/"
        }
      },
      "source": [
        "!pip install anndata"
      ],
      "execution_count": 3,
      "outputs": [
        {
          "output_type": "stream",
          "text": [
            "Collecting anndata\n",
            "\u001b[?25l  Downloading https://files.pythonhosted.org/packages/93/20/a0ac7af93c9312da8ab1b440e26d8f6098670cf0a9c7cbe26a0d14456b67/anndata-0.7.4-py3-none-any.whl (118kB)\n",
            "\r\u001b[K     |██▊                             | 10kB 16.0MB/s eta 0:00:01\r\u001b[K     |█████▌                          | 20kB 2.1MB/s eta 0:00:01\r\u001b[K     |████████▎                       | 30kB 2.5MB/s eta 0:00:01\r\u001b[K     |███████████                     | 40kB 2.7MB/s eta 0:00:01\r\u001b[K     |█████████████▉                  | 51kB 2.4MB/s eta 0:00:01\r\u001b[K     |████████████████▋               | 61kB 2.7MB/s eta 0:00:01\r\u001b[K     |███████████████████▍            | 71kB 2.9MB/s eta 0:00:01\r\u001b[K     |██████████████████████▏         | 81kB 3.2MB/s eta 0:00:01\r\u001b[K     |████████████████████████▉       | 92kB 3.1MB/s eta 0:00:01\r\u001b[K     |███████████████████████████▋    | 102kB 3.3MB/s eta 0:00:01\r\u001b[K     |██████████████████████████████▍ | 112kB 3.3MB/s eta 0:00:01\r\u001b[K     |████████████████████████████████| 122kB 3.3MB/s \n",
            "\u001b[?25hRequirement already satisfied: scipy~=1.0 in /usr/local/lib/python3.6/dist-packages (from anndata) (1.4.1)\n",
            "Requirement already satisfied: natsort in /usr/local/lib/python3.6/dist-packages (from anndata) (5.5.0)\n",
            "Requirement already satisfied: pandas>=1.0 in /usr/local/lib/python3.6/dist-packages (from anndata) (1.1.3)\n",
            "Requirement already satisfied: packaging in /usr/local/lib/python3.6/dist-packages (from anndata) (20.4)\n",
            "Requirement already satisfied: numpy>=1.15 in /usr/local/lib/python3.6/dist-packages (from anndata) (1.18.5)\n",
            "Requirement already satisfied: h5py in /usr/local/lib/python3.6/dist-packages (from anndata) (2.10.0)\n",
            "Requirement already satisfied: importlib-metadata>=0.7; python_version < \"3.8\" in /usr/local/lib/python3.6/dist-packages (from anndata) (2.0.0)\n",
            "Requirement already satisfied: pytz>=2017.2 in /usr/local/lib/python3.6/dist-packages (from pandas>=1.0->anndata) (2018.9)\n",
            "Requirement already satisfied: python-dateutil>=2.7.3 in /usr/local/lib/python3.6/dist-packages (from pandas>=1.0->anndata) (2.8.1)\n",
            "Requirement already satisfied: pyparsing>=2.0.2 in /usr/local/lib/python3.6/dist-packages (from packaging->anndata) (2.4.7)\n",
            "Requirement already satisfied: six in /usr/local/lib/python3.6/dist-packages (from packaging->anndata) (1.15.0)\n",
            "Requirement already satisfied: zipp>=0.5 in /usr/local/lib/python3.6/dist-packages (from importlib-metadata>=0.7; python_version < \"3.8\"->anndata) (3.3.1)\n",
            "Installing collected packages: anndata\n",
            "Successfully installed anndata-0.7.4\n"
          ],
          "name": "stdout"
        }
      ]
    },
    {
      "cell_type": "code",
      "metadata": {
        "id": "uuMevWCjBgI4",
        "outputId": "334ae0db-2136-457e-fe97-6e5d60658d6f",
        "colab": {
          "base_uri": "https://localhost:8080/"
        }
      },
      "source": [
        "# We need cmake to install kallisto and bustools from source\n",
        "!apt update\n",
        "!apt install -y cmake"
      ],
      "execution_count": 4,
      "outputs": [
        {
          "output_type": "stream",
          "text": [
            "\u001b[33m\r0% [Working]\u001b[0m\r            \rIgn:1 https://developer.download.nvidia.com/compute/cuda/repos/ubuntu1804/x86_64  InRelease\n",
            "\u001b[33m\r0% [Connecting to archive.ubuntu.com (91.189.88.152)] [Connecting to security.u\u001b[0m\r                                                                               \rIgn:2 https://developer.download.nvidia.com/compute/machine-learning/repos/ubuntu1804/x86_64  InRelease\n",
            "Get:3 https://developer.download.nvidia.com/compute/cuda/repos/ubuntu1804/x86_64  Release [697 B]\n",
            "Hit:4 https://developer.download.nvidia.com/compute/machine-learning/repos/ubuntu1804/x86_64  Release\n",
            "Hit:5 http://archive.ubuntu.com/ubuntu bionic InRelease\n",
            "Get:6 http://archive.ubuntu.com/ubuntu bionic-updates InRelease [88.7 kB]\n",
            "Get:7 http://security.ubuntu.com/ubuntu bionic-security InRelease [88.7 kB]\n",
            "Get:8 http://ppa.launchpad.net/c2d4u.team/c2d4u4.0+/ubuntu bionic InRelease [15.9 kB]\n",
            "Get:9 https://developer.download.nvidia.com/compute/cuda/repos/ubuntu1804/x86_64  Release.gpg [836 B]\n",
            "Hit:10 http://ppa.launchpad.net/graphics-drivers/ppa/ubuntu bionic InRelease\n",
            "Get:12 http://archive.ubuntu.com/ubuntu bionic-backports InRelease [74.6 kB]\n",
            "Get:13 https://cloud.r-project.org/bin/linux/ubuntu bionic-cran40/ InRelease [3,626 B]\n",
            "Get:14 http://ppa.launchpad.net/c2d4u.team/c2d4u4.0+/ubuntu bionic/main Sources [1,687 kB]\n",
            "Ign:15 https://developer.download.nvidia.com/compute/cuda/repos/ubuntu1804/x86_64  Packages\n",
            "Get:15 https://developer.download.nvidia.com/compute/cuda/repos/ubuntu1804/x86_64  Packages [405 kB]\n",
            "Get:16 http://security.ubuntu.com/ubuntu bionic-security/main amd64 Packages [1,748 kB]\n",
            "Get:17 http://archive.ubuntu.com/ubuntu bionic-updates/main amd64 Packages [2,165 kB]\n",
            "Get:18 http://security.ubuntu.com/ubuntu bionic-security/universe amd64 Packages [1,353 kB]\n",
            "Get:19 http://ppa.launchpad.net/c2d4u.team/c2d4u4.0+/ubuntu bionic/main amd64 Packages [864 kB]\n",
            "Get:20 https://cloud.r-project.org/bin/linux/ubuntu bionic-cran40/ Packages [40.1 kB]\n",
            "Get:21 http://archive.ubuntu.com/ubuntu bionic-updates/universe amd64 Packages [2,118 kB]\n",
            "Fetched 10.7 MB in 3s (3,405 kB/s)\n",
            "Reading package lists... Done\n",
            "Building dependency tree       \n",
            "Reading state information... Done\n",
            "31 packages can be upgraded. Run 'apt list --upgradable' to see them.\n",
            "Reading package lists... Done\n",
            "Building dependency tree       \n",
            "Reading state information... Done\n",
            "cmake is already the newest version (3.10.2-1ubuntu2.18.04.1).\n",
            "0 upgraded, 0 newly installed, 0 to remove and 31 not upgraded.\n"
          ],
          "name": "stdout"
        }
      ]
    },
    {
      "cell_type": "code",
      "metadata": {
        "id": "eXVuPQ9DB3qV",
        "outputId": "ac835dd2-3fa4-4fce-8387-0e9aeda9b952",
        "colab": {
          "base_uri": "https://localhost:8080/"
        }
      },
      "source": [
        "!apt-get install autoconf"
      ],
      "execution_count": 5,
      "outputs": [
        {
          "output_type": "stream",
          "text": [
            "Reading package lists... Done\n",
            "Building dependency tree       \n",
            "Reading state information... Done\n",
            "The following additional packages will be installed:\n",
            "  automake autotools-dev libsigsegv2 m4\n",
            "Suggested packages:\n",
            "  autoconf-archive gnu-standards autoconf-doc libtool gettext m4-doc\n",
            "The following NEW packages will be installed:\n",
            "  autoconf automake autotools-dev libsigsegv2 m4\n",
            "0 upgraded, 5 newly installed, 0 to remove and 31 not upgraded.\n",
            "Need to get 1,082 kB of archives.\n",
            "After this operation, 3,994 kB of additional disk space will be used.\n",
            "Get:1 http://archive.ubuntu.com/ubuntu bionic/main amd64 libsigsegv2 amd64 2.12-1 [14.7 kB]\n",
            "Get:2 http://archive.ubuntu.com/ubuntu bionic/main amd64 m4 amd64 1.4.18-1 [197 kB]\n",
            "Get:3 http://archive.ubuntu.com/ubuntu bionic/main amd64 autoconf all 2.69-11 [322 kB]\n",
            "Get:4 http://archive.ubuntu.com/ubuntu bionic/main amd64 autotools-dev all 20180224.1 [39.6 kB]\n",
            "Get:5 http://archive.ubuntu.com/ubuntu bionic/main amd64 automake all 1:1.15.1-3ubuntu2 [509 kB]\n",
            "Fetched 1,082 kB in 1s (953 kB/s)\n",
            "Selecting previously unselected package libsigsegv2:amd64.\n",
            "(Reading database ... 144628 files and directories currently installed.)\n",
            "Preparing to unpack .../libsigsegv2_2.12-1_amd64.deb ...\n",
            "Unpacking libsigsegv2:amd64 (2.12-1) ...\n",
            "Selecting previously unselected package m4.\n",
            "Preparing to unpack .../archives/m4_1.4.18-1_amd64.deb ...\n",
            "Unpacking m4 (1.4.18-1) ...\n",
            "Selecting previously unselected package autoconf.\n",
            "Preparing to unpack .../autoconf_2.69-11_all.deb ...\n",
            "Unpacking autoconf (2.69-11) ...\n",
            "Selecting previously unselected package autotools-dev.\n",
            "Preparing to unpack .../autotools-dev_20180224.1_all.deb ...\n",
            "Unpacking autotools-dev (20180224.1) ...\n",
            "Selecting previously unselected package automake.\n",
            "Preparing to unpack .../automake_1%3a1.15.1-3ubuntu2_all.deb ...\n",
            "Unpacking automake (1:1.15.1-3ubuntu2) ...\n",
            "Setting up libsigsegv2:amd64 (2.12-1) ...\n",
            "Setting up m4 (1.4.18-1) ...\n",
            "Setting up autotools-dev (20180224.1) ...\n",
            "Setting up autoconf (2.69-11) ...\n",
            "Setting up automake (1:1.15.1-3ubuntu2) ...\n",
            "update-alternatives: using /usr/bin/automake-1.15 to provide /usr/bin/automake (automake) in auto mode\n",
            "Processing triggers for libc-bin (2.27-3ubuntu1.2) ...\n",
            "/sbin/ldconfig.real: /usr/local/lib/python3.6/dist-packages/ideep4py/lib/libmkldnn.so.0 is not a symbolic link\n",
            "\n",
            "Processing triggers for man-db (2.8.3-2ubuntu0.1) ...\n"
          ],
          "name": "stdout"
        }
      ]
    },
    {
      "cell_type": "code",
      "metadata": {
        "id": "pUbDJRBHBgI6",
        "outputId": "7461039e-bef3-4c16-8968-7e8b2d5cde40",
        "colab": {
          "base_uri": "https://localhost:8080/"
        }
      },
      "source": [
        "!git clone https://github.com/pachterlab/kallisto.git\n",
        "!mv kallisto/ temporary/\n",
        "!cd temporary/kallisto && git checkout covid && mkdir build && cd build && cmake .. && make\n",
        "!chmod +x temporary/kallisto/build/src/kallisto\n",
        "!mv temporary/kallisto/build/src/kallisto /usr/local/bin/"
      ],
      "execution_count": 6,
      "outputs": [
        {
          "output_type": "stream",
          "text": [
            "Cloning into 'kallisto'...\n",
            "remote: Enumerating objects: 3857, done.\u001b[K\n",
            "remote: Total 3857 (delta 0), reused 0 (delta 0), pack-reused 3857\u001b[K\n",
            "Receiving objects: 100% (3857/3857), 4.08 MiB | 14.45 MiB/s, done.\n",
            "Resolving deltas: 100% (2514/2514), done.\n",
            "Branch 'covid' set up to track remote branch 'covid' from 'origin'.\n",
            "Switched to a new branch 'covid'\n",
            "-- The C compiler identification is GNU 7.5.0\n",
            "-- The CXX compiler identification is GNU 7.5.0\n",
            "-- Check for working C compiler: /usr/bin/cc\n",
            "-- Check for working C compiler: /usr/bin/cc -- works\n",
            "-- Detecting C compiler ABI info\n",
            "-- Detecting C compiler ABI info - done\n",
            "-- Detecting C compile features\n",
            "-- Detecting C compile features - done\n",
            "-- Check for working CXX compiler: /usr/bin/c++\n",
            "-- Check for working CXX compiler: /usr/bin/c++ -- works\n",
            "-- Detecting CXX compiler ABI info\n",
            "-- Detecting CXX compiler ABI info - done\n",
            "-- Detecting CXX compile features\n",
            "-- Detecting CXX compile features - done\n",
            "shared build\n",
            "-- Looking for pthread.h\n",
            "-- Looking for pthread.h - found\n",
            "-- Looking for pthread_create\n",
            "-- Looking for pthread_create - not found\n",
            "-- Looking for pthread_create in pthreads\n",
            "-- Looking for pthread_create in pthreads - not found\n",
            "-- Looking for pthread_create in pthread\n",
            "-- Looking for pthread_create in pthread - found\n",
            "-- Found Threads: TRUE  \n",
            "-- Found ZLIB: /usr/lib/x86_64-linux-gnu/libz.so (found version \"1.2.11\") \n",
            "-- Configuring done\n",
            "-- Generating done\n",
            "-- Build files have been written to: /content/temporary/kallisto/build\n",
            "\u001b[35m\u001b[1mScanning dependencies of target htslib\u001b[0m\n",
            "[  3%] \u001b[34m\u001b[1mCreating directories for 'htslib'\u001b[0m\n",
            "[  6%] \u001b[34m\u001b[1mNo download step for 'htslib'\u001b[0m\n",
            "[ 10%] \u001b[34m\u001b[1mNo patch step for 'htslib'\u001b[0m\n",
            "[ 13%] \u001b[34m\u001b[1mNo update step for 'htslib'\u001b[0m\n",
            "[ 17%] \u001b[34m\u001b[1mPerforming configure step for 'htslib'\u001b[0m\n",
            "checking for gcc... gcc\n",
            "checking whether the C compiler works... yes\n",
            "checking for C compiler default output file name... a.out\n",
            "checking for suffix of executables... \n",
            "checking whether we are cross compiling... no\n",
            "checking for suffix of object files... o\n",
            "checking whether we are using the GNU C compiler... yes\n",
            "checking whether gcc accepts -g... yes\n",
            "checking for gcc option to accept ISO C89... none needed\n",
            "checking for ranlib... ranlib\n",
            "checking for special C compiler options needed for large files... no\n",
            "checking for _FILE_OFFSET_BITS value needed for large files... no\n",
            "checking shared library type... plain .so\n",
            "checking how to run the C preprocessor... gcc -E\n",
            "checking for grep that handles long lines and -e... /bin/grep\n",
            "checking for egrep... /bin/grep -E\n",
            "checking for ANSI C header files... yes\n",
            "checking for sys/types.h... yes\n",
            "checking for sys/stat.h... yes\n",
            "checking for stdlib.h... yes\n",
            "checking for string.h... yes\n",
            "checking for memory.h... yes\n",
            "checking for strings.h... yes\n",
            "checking for inttypes.h... yes\n",
            "checking for stdint.h... yes\n",
            "checking for unistd.h... yes\n",
            "checking for stdlib.h... (cached) yes\n",
            "checking for unistd.h... (cached) yes\n",
            "checking for sys/param.h... yes\n",
            "checking for getpagesize... yes\n",
            "checking for working mmap... yes\n",
            "checking for gmtime_r... yes\n",
            "checking whether fdatasync is declared... yes\n",
            "checking for fdatasync... yes\n",
            "checking for library containing log... -lm\n",
            "checking for zlib.h... yes\n",
            "checking for inflate in -lz... yes\n",
            "checking for library containing connect... none required\n",
            "configure: WARNING: GCS support not enabled: requires libcurl support\n",
            "configure: WARNING: S3 support not enabled: requires libcurl support\n",
            "configure: creating ./config.status\n",
            "config.status: creating config.mk\n",
            "config.status: creating htslib.pc.tmp\n",
            "config.status: creating config.h\n",
            "[ 20%] \u001b[34m\u001b[1mPerforming build step for 'htslib'\u001b[0m\n",
            "[ 24%] \u001b[34m\u001b[1mNo install step for 'htslib'\u001b[0m\n",
            "[ 27%] \u001b[34m\u001b[1mCompleted 'htslib'\u001b[0m\n",
            "[ 27%] Built target htslib\n",
            "\u001b[35m\u001b[1mScanning dependencies of target kallisto_core\u001b[0m\n",
            "[ 31%] \u001b[32mBuilding CXX object src/CMakeFiles/kallisto_core.dir/BUSData.cpp.o\u001b[0m\n",
            "[ 34%] \u001b[32mBuilding CXX object src/CMakeFiles/kallisto_core.dir/BUSTools.cpp.o\u001b[0m\n",
            "[ 37%] \u001b[32mBuilding CXX object src/CMakeFiles/kallisto_core.dir/Bootstrap.cpp.o\u001b[0m\n",
            "[ 41%] \u001b[32mBuilding CXX object src/CMakeFiles/kallisto_core.dir/GeneModel.cpp.o\u001b[0m\n",
            "[ 44%] \u001b[32mBuilding CXX object src/CMakeFiles/kallisto_core.dir/H5Writer.cpp.o\u001b[0m\n",
            "[ 48%] \u001b[32mBuilding CXX object src/CMakeFiles/kallisto_core.dir/Kmer.cpp.o\u001b[0m\n",
            "[ 51%] \u001b[32mBuilding CXX object src/CMakeFiles/kallisto_core.dir/KmerIndex.cpp.o\u001b[0m\n",
            "[ 55%] \u001b[32mBuilding CXX object src/CMakeFiles/kallisto_core.dir/KmerIterator.cpp.o\u001b[0m\n",
            "[ 58%] \u001b[32mBuilding CXX object src/CMakeFiles/kallisto_core.dir/Merge.cpp.o\u001b[0m\n",
            "[ 62%] \u001b[32mBuilding CXX object src/CMakeFiles/kallisto_core.dir/MinCollector.cpp.o\u001b[0m\n",
            "[ 65%] \u001b[32mBuilding CXX object src/CMakeFiles/kallisto_core.dir/PlaintextWriter.cpp.o\u001b[0m\n",
            "[ 68%] \u001b[32mBuilding CXX object src/CMakeFiles/kallisto_core.dir/ProcessReads.cpp.o\u001b[0m\n",
            "[ 72%] \u001b[32mBuilding CXX object src/CMakeFiles/kallisto_core.dir/PseudoBam.cpp.o\u001b[0m\n",
            "[ 75%] \u001b[32mBuilding CXX object src/CMakeFiles/kallisto_core.dir/common.cpp.o\u001b[0m\n",
            "[ 79%] \u001b[32mBuilding CXX object src/CMakeFiles/kallisto_core.dir/h5utils.cpp.o\u001b[0m\n",
            "[ 82%] \u001b[32mBuilding CXX object src/CMakeFiles/kallisto_core.dir/hash.cpp.o\u001b[0m\n",
            "[ 86%] \u001b[32mBuilding CXX object src/CMakeFiles/kallisto_core.dir/main.cpp.o\u001b[0m\n",
            "[ 89%] \u001b[32mBuilding CXX object src/CMakeFiles/kallisto_core.dir/weights.cpp.o\u001b[0m\n",
            "[ 93%] \u001b[32m\u001b[1mLinking CXX static library libkallisto_core.a\u001b[0m\n",
            "[ 93%] Built target kallisto_core\n",
            "\u001b[35m\u001b[1mScanning dependencies of target kallisto\u001b[0m\n",
            "[ 96%] \u001b[32mBuilding CXX object src/CMakeFiles/kallisto.dir/main.cpp.o\u001b[0m\n",
            "[100%] \u001b[32m\u001b[1mLinking CXX executable kallisto\u001b[0m\n",
            "[100%] Built target kallisto\n"
          ],
          "name": "stdout"
        }
      ]
    },
    {
      "cell_type": "code",
      "metadata": {
        "id": "2i0ooyerBgI9",
        "outputId": "1124cda9-5816-49f7-e044-c34ee7a32d90",
        "colab": {
          "base_uri": "https://localhost:8080/"
        }
      },
      "source": [
        "!git clone https://github.com/BUStools/bustools.git\n",
        "!mv bustools/ temporary/\n",
        "!cd temporary/bustools && git checkout covid && mkdir build && cd build && cmake .. && make\n",
        "!chmod +x temporary/bustools/build/src/bustools\n",
        "!mv temporary/bustools/build/src/bustools /usr/local/bin/"
      ],
      "execution_count": 7,
      "outputs": [
        {
          "output_type": "stream",
          "text": [
            "Cloning into 'bustools'...\n",
            "remote: Enumerating objects: 51, done.\u001b[K\n",
            "remote: Counting objects: 100% (51/51), done.\u001b[K\n",
            "remote: Compressing objects: 100% (35/35), done.\u001b[K\n",
            "remote: Total 907 (delta 33), reused 33 (delta 16), pack-reused 856\u001b[K\n",
            "Receiving objects: 100% (907/907), 604.53 KiB | 7.03 MiB/s, done.\n",
            "Resolving deltas: 100% (552/552), done.\n",
            "Branch 'covid' set up to track remote branch 'covid' from 'origin'.\n",
            "Switched to a new branch 'covid'\n",
            "-- The C compiler identification is GNU 7.5.0\n",
            "-- The CXX compiler identification is GNU 7.5.0\n",
            "-- Check for working C compiler: /usr/bin/cc\n",
            "-- Check for working C compiler: /usr/bin/cc -- works\n",
            "-- Detecting C compiler ABI info\n",
            "-- Detecting C compiler ABI info - done\n",
            "-- Detecting C compile features\n",
            "-- Detecting C compile features - done\n",
            "-- Check for working CXX compiler: /usr/bin/c++\n",
            "-- Check for working CXX compiler: /usr/bin/c++ -- works\n",
            "-- Detecting CXX compiler ABI info\n",
            "-- Detecting CXX compiler ABI info - done\n",
            "-- Detecting CXX compile features\n",
            "-- Detecting CXX compile features - done\n",
            "release mode\n",
            "-- Looking for pthread.h\n",
            "-- Looking for pthread.h - found\n",
            "-- Looking for pthread_create\n",
            "-- Looking for pthread_create - not found\n",
            "-- Looking for pthread_create in pthreads\n",
            "-- Looking for pthread_create in pthreads - not found\n",
            "-- Looking for pthread_create in pthread\n",
            "-- Looking for pthread_create in pthread - found\n",
            "-- Found Threads: TRUE  \n",
            "-- Found ZLIB: /usr/lib/x86_64-linux-gnu/libz.so (found version \"1.2.11\") \n",
            "-- Configuring done\n",
            "-- Generating done\n",
            "-- Build files have been written to: /content/temporary/bustools/build\n",
            "\u001b[35m\u001b[1mScanning dependencies of target bustools_core\u001b[0m\n",
            "[  5%] \u001b[32mBuilding CXX object src/CMakeFiles/bustools_core.dir/BUSData.cpp.o\u001b[0m\n",
            "[ 11%] \u001b[32mBuilding CXX object src/CMakeFiles/bustools_core.dir/Common.cpp.o\u001b[0m\n",
            "[ 16%] \u001b[32mBuilding CXX object src/CMakeFiles/bustools_core.dir/bustools_capture.cpp.o\u001b[0m\n",
            "[ 22%] \u001b[32mBuilding CXX object src/CMakeFiles/bustools_core.dir/bustools_correct.cpp.o\u001b[0m\n",
            "[ 27%] \u001b[32mBuilding CXX object src/CMakeFiles/bustools_core.dir/bustools_count.cpp.o\u001b[0m\n",
            "[ 33%] \u001b[32mBuilding CXX object src/CMakeFiles/bustools_core.dir/bustools_extract.cpp.o\u001b[0m\n",
            "[ 38%] \u001b[32mBuilding CXX object src/CMakeFiles/bustools_core.dir/bustools_inspect.cpp.o\u001b[0m\n",
            "[ 44%] \u001b[32mBuilding CXX object src/CMakeFiles/bustools_core.dir/bustools_linker.cpp.o\u001b[0m\n",
            "[ 50%] \u001b[32mBuilding CXX object src/CMakeFiles/bustools_core.dir/bustools_main.cpp.o\u001b[0m\n",
            "[ 55%] \u001b[32mBuilding CXX object src/CMakeFiles/bustools_core.dir/bustools_mash.cpp.o\u001b[0m\n",
            "[ 61%] \u001b[32mBuilding CXX object src/CMakeFiles/bustools_core.dir/bustools_merge.cpp.o\u001b[0m\n",
            "[ 66%] \u001b[32mBuilding CXX object src/CMakeFiles/bustools_core.dir/bustools_project.cpp.o\u001b[0m\n",
            "[ 72%] \u001b[32mBuilding CXX object src/CMakeFiles/bustools_core.dir/bustools_sort.cpp.o\u001b[0m\n",
            "[ 77%] \u001b[32mBuilding CXX object src/CMakeFiles/bustools_core.dir/bustools_whitelist.cpp.o\u001b[0m\n",
            "[ 83%] \u001b[32mBuilding C object src/CMakeFiles/bustools_core.dir/roaring.c.o\u001b[0m\n",
            "[ 88%] \u001b[32m\u001b[1mLinking CXX static library libbustools_core.a\u001b[0m\n",
            "[ 88%] Built target bustools_core\n",
            "\u001b[35m\u001b[1mScanning dependencies of target bustools\u001b[0m\n",
            "[ 94%] \u001b[32mBuilding CXX object src/CMakeFiles/bustools.dir/bustools_main.cpp.o\u001b[0m\n",
            "[100%] \u001b[32m\u001b[1mLinking CXX executable bustools\u001b[0m\n",
            "[100%] Built target bustools\n"
          ],
          "name": "stdout"
        }
      ]
    },
    {
      "cell_type": "code",
      "metadata": {
        "id": "L_MLQIvUBgI_",
        "outputId": "0246b890-f092-42e0-cd51-10cae5210dde",
        "colab": {
          "base_uri": "https://localhost:8080/"
        }
      },
      "source": [
        "!kallisto version\n",
        "!bustools version"
      ],
      "execution_count": 8,
      "outputs": [
        {
          "output_type": "stream",
          "text": [
            "kallisto, version 0.46.2\n",
            "bustools, version 0.40.0\n"
          ],
          "name": "stdout"
        }
      ]
    },
    {
      "cell_type": "code",
      "metadata": {
        "id": "aZYv6VQWBgJC",
        "outputId": "30637a3b-2da3-4bea-9bdb-62f95e4f4f1a",
        "colab": {
          "base_uri": "https://localhost:8080/"
        }
      },
      "source": [
        "!kallisto index -i ./temporary/trb_index.idx -k 21 BLCSBGLKP_2020/data/trbseq/transcriptome.fa"
      ],
      "execution_count": 9,
      "outputs": [
        {
          "output_type": "stream",
          "text": [
            "\n",
            "[build] loading fasta file BLCSBGLKP_2020/data/trbseq/transcriptome.fa\n",
            "[build] k-mer length: 21\n",
            "[build] counting k-mers ... done.\n",
            "[build] building target de Bruijn graph ...  done \n",
            "[build] creating equivalence classes ...  done\n",
            "[build] target de Bruijn graph has 3 contigs and contains 117 k-mers \n",
            "\n"
          ],
          "name": "stdout"
        }
      ]
    },
    {
      "cell_type": "code",
      "metadata": {
        "id": "3QNrq7oCBgJF",
        "outputId": "c0330398-1199-4f5c-b743-6c492ba73f2a",
        "colab": {
          "base_uri": "https://localhost:8080/"
        }
      },
      "source": [
        "!kallisto bus -x TRBSeq -t 2 -o ./temporary/out_trb -i ./temporary/trb_index.idx BLCSBGLKP_2020/data/trbseq/R1.fastq.gz BLCSBGLKP_2020/data/trbseq/R2.fastq.gz"
      ],
      "execution_count": 10,
      "outputs": [
        {
          "output_type": "stream",
          "text": [
            "\n",
            "[index] k-mer length: 21\n",
            "[index] number of targets: 3\n",
            "[index] number of k-mers: 117\n",
            "[index] number of equivalence classes: 3\n",
            "[quant] will process sample 1: BLCSBGLKP_2020/data/trbseq/R1.fastq.gz\n",
            "                               BLCSBGLKP_2020/data/trbseq/R2.fastq.gz\n",
            "[quant] finding pseudoalignments for the reads ... done\n",
            "[quant] processed 12,062,027 reads, 12,033,441 reads pseudoaligned\n"
          ],
          "name": "stdout"
        }
      ]
    },
    {
      "cell_type": "code",
      "metadata": {
        "id": "Uv1KvHI3BgJI",
        "outputId": "29aa9121-253c-49d4-e874-b8b914313579",
        "colab": {
          "base_uri": "https://localhost:8080/"
        }
      },
      "source": [
        "# sort the BUS file by barcode\n",
        "!bustools sort -t 2 -m 1G -o temporary/out_trb/sort.bus temporary/out_trb/output.bus\n",
        "# Correct to the barcodes in the whitelist (obtained from the SampleSheet)\n",
        "!bustools correct -d temporary/out_trb/dump.txt -w BLCSBGLKP_2020/data/trbseq/whitelist.txt  -o temporary/out_trb/sort.correct.bus temporary/out_trb/sort.bus\n",
        "# Sort again to sum the Amplicon counts\n",
        "!bustools sort -t 2 -m 1G -o temporary/out_trb/sort.correct.sort.bus temporary/out_trb/sort.correct.bus\n",
        "\n",
        "# write busfile to text output\n",
        "!bustools text -p temporary/out_trb/sort.correct.sort.bus > temporary/out_trb/data.txt\n",
        "\n",
        "# Write the sorted bus file out for barcode QC\n",
        "!bustools text -p temporary/out_trb/sort.bus > temporary/out_trb/sort.txt"
      ],
      "execution_count": 11,
      "outputs": [
        {
          "output_type": "stream",
          "text": [
            "tcmalloc: large alloc 1073741824 bytes == 0x564489bde000 @  0x7f19768db887 0x5644883dd3fd 0x56448839ef4a 0x7f197575bb97 0x5644883a007a\n",
            "Read in 12033441 BUS records\n",
            "Found 96 barcodes in the whitelist\n",
            "Processed 32273 BUS records\n",
            "In whitelist = 283\n",
            "Corrected    = 6715\n",
            "Uncorrected  = 25275\n",
            "tcmalloc: large alloc 1073741824 bytes == 0x5652b3d9a000 @  0x7f501928e887 0x5652b23dc3fd 0x5652b239df4a 0x7f501810eb97 0x5652b239f07a\n",
            "Read in 6998 BUS records\n",
            "Read in 283 BUS records\n",
            "Read in 32273 BUS records\n"
          ],
          "name": "stdout"
        }
      ]
    },
    {
      "cell_type": "code",
      "metadata": {
        "id": "7yR-pTnqBgJL"
      },
      "source": [
        "import pandas as pd\n",
        "import numpy as np\n",
        "import matplotlib.pyplot as plt\n",
        "import string\n",
        "import anndata\n",
        "\n",
        "from collections import defaultdict\n",
        "from collections import OrderedDict\n",
        "\n",
        "\n",
        "from mpl_toolkits.axes_grid1 import make_axes_locatable\n",
        "import matplotlib as mpl\n",
        "import matplotlib.patches as mpatches\n",
        "\n",
        "\n",
        "\n",
        "from sklearn.manifold import TSNE\n",
        "from sklearn.cluster import KMeans\n",
        "from sklearn.preprocessing import scale\n",
        "from sklearn.preprocessing import normalize\n",
        "from sklearn.decomposition import TruncatedSVD\n",
        "from sklearn.linear_model import LogisticRegression\n",
        "from sklearn.model_selection import train_test_split\n",
        "from sklearn import metrics\n",
        "from scipy.special import expit as sigmoid\n",
        "\n",
        "def nd(arr):\n",
        "    return np.asarray(arr).reshape(-1)\n",
        "\n",
        "# Effectivley python implementation of bustools covid (to be made)\n",
        "def make_mtx(bcs, ecs, cnt, unique_ecs):\n",
        "    \n",
        "    bold = bcs[0]\n",
        "    eold = ecs[0]\n",
        "    cold = cnt[0]\n",
        "    mtx = []\n",
        "    \n",
        "    d = defaultdict()\n",
        "    #d[eold] = cold\n",
        "    bold = 0\n",
        "    for idx, b in enumerate(bcs):\n",
        "    \n",
        "        if b != bold and idx > 0:\n",
        "            count = []\n",
        "            for e in unique_ecs:\n",
        "    \n",
        "                count.append(d.get(e, 0))\n",
        "            \n",
        "            mtx.append(count)\n",
        "            d = defaultdict()\n",
        "    \n",
        "        d[ecs[idx]] = cnt[idx]\n",
        "    \n",
        "        bold = b\n",
        "    count = []\n",
        "    for e in unique_ecs:\n",
        "        count.append(d.get(e, 0))\n",
        "    mtx.append(count)\n",
        "    \n",
        "    return np.asarray(mtx)\n",
        "\n",
        "def yex(ax):\n",
        "    lims = [\n",
        "        np.min([ax.get_xlim(), ax.get_ylim()]),  # min of both axes\n",
        "        np.max([ax.get_xlim(), ax.get_ylim()]),  # max of both axes\n",
        "    ]\n",
        "    \n",
        "    # now plot both limits against eachother\n",
        "    ax.plot(lims, lims, 'k-', alpha=0.75, zorder=0)\n",
        "    ax.set_aspect('equal')\n",
        "    ax.set_xlim(lims)\n",
        "    ax.set_ylim(lims)\n",
        "    return ax\n",
        "\n",
        "cm = {1:\"#D43F3A\", 0:\"#3182bd\"}\n",
        "fsize=20\n",
        "\n",
        "plt.rcParams.update({'font.size': fsize})\n",
        "%config InlineBackend.figure_format = 'retina'"
      ],
      "execution_count": 12,
      "outputs": []
    },
    {
      "cell_type": "markdown",
      "metadata": {
        "id": "Fbd3Yf5clevr"
      },
      "source": [
        "## Load results"
      ]
    },
    {
      "cell_type": "markdown",
      "metadata": {
        "id": "OHowQGfBlevt"
      },
      "source": [
        "### Load the BUS file in text format"
      ]
    },
    {
      "cell_type": "code",
      "metadata": {
        "id": "la96CXvNlevu"
      },
      "source": [
        "data_path = \"temporary/out_trb/\"\n",
        "df = pd.read_csv(data_path + \"data.txt\", sep=\"\\t\", header=None, names=[\"bcs\", \"umi\", \"ecs\", \"cnt\"])\n",
        "df = df.sort_values(\"bcs\")"
      ],
      "execution_count": 13,
      "outputs": []
    },
    {
      "cell_type": "code",
      "metadata": {
        "id": "IipEBOZZlevw",
        "outputId": "1a92025e-c3ea-4f3f-a212-934c6d11917e",
        "colab": {
          "base_uri": "https://localhost:8080/",
          "height": 0
        }
      },
      "source": [
        "df.head()"
      ],
      "execution_count": 14,
      "outputs": [
        {
          "output_type": "execute_result",
          "data": {
            "text/html": [
              "<div>\n",
              "<style scoped>\n",
              "    .dataframe tbody tr th:only-of-type {\n",
              "        vertical-align: middle;\n",
              "    }\n",
              "\n",
              "    .dataframe tbody tr th {\n",
              "        vertical-align: top;\n",
              "    }\n",
              "\n",
              "    .dataframe thead th {\n",
              "        text-align: right;\n",
              "    }\n",
              "</style>\n",
              "<table border=\"1\" class=\"dataframe\">\n",
              "  <thead>\n",
              "    <tr style=\"text-align: right;\">\n",
              "      <th></th>\n",
              "      <th>bcs</th>\n",
              "      <th>umi</th>\n",
              "      <th>ecs</th>\n",
              "      <th>cnt</th>\n",
              "    </tr>\n",
              "  </thead>\n",
              "  <tbody>\n",
              "    <tr>\n",
              "      <th>0</th>\n",
              "      <td>AAAGAAGATACTTAA</td>\n",
              "      <td>AAAAAAAAAAAAAAAAAAAAAAAA</td>\n",
              "      <td>0</td>\n",
              "      <td>27556</td>\n",
              "    </tr>\n",
              "    <tr>\n",
              "      <th>1</th>\n",
              "      <td>AAAGAAGATACTTAA</td>\n",
              "      <td>AAAAAAAAAAAAAAAAAAAAAAAA</td>\n",
              "      <td>1</td>\n",
              "      <td>128595</td>\n",
              "    </tr>\n",
              "    <tr>\n",
              "      <th>2</th>\n",
              "      <td>AAAGAAGATACTTAA</td>\n",
              "      <td>AAAAAAAAAAAAAAAAAAAAAAAA</td>\n",
              "      <td>2</td>\n",
              "      <td>148</td>\n",
              "    </tr>\n",
              "    <tr>\n",
              "      <th>3</th>\n",
              "      <td>AAAGTATGATATGTC</td>\n",
              "      <td>AAAAAAAAAAAAAAAAAAAAAAAA</td>\n",
              "      <td>0</td>\n",
              "      <td>36</td>\n",
              "    </tr>\n",
              "    <tr>\n",
              "      <th>4</th>\n",
              "      <td>AAAGTATGATATGTC</td>\n",
              "      <td>AAAAAAAAAAAAAAAAAAAAAAAA</td>\n",
              "      <td>1</td>\n",
              "      <td>51116</td>\n",
              "    </tr>\n",
              "  </tbody>\n",
              "</table>\n",
              "</div>"
            ],
            "text/plain": [
              "               bcs                       umi  ecs     cnt\n",
              "0  AAAGAAGATACTTAA  AAAAAAAAAAAAAAAAAAAAAAAA    0   27556\n",
              "1  AAAGAAGATACTTAA  AAAAAAAAAAAAAAAAAAAAAAAA    1  128595\n",
              "2  AAAGAAGATACTTAA  AAAAAAAAAAAAAAAAAAAAAAAA    2     148\n",
              "3  AAAGTATGATATGTC  AAAAAAAAAAAAAAAAAAAAAAAA    0      36\n",
              "4  AAAGTATGATATGTC  AAAAAAAAAAAAAAAAAAAAAAAA    1   51116"
            ]
          },
          "metadata": {
            "tags": []
          },
          "execution_count": 14
        }
      ]
    },
    {
      "cell_type": "code",
      "metadata": {
        "id": "3bl2PpQTlevy",
        "outputId": "6fdbfb1e-0c41-416d-9555-c68183ad9c18",
        "colab": {
          "base_uri": "https://localhost:8080/"
        }
      },
      "source": [
        "print(\"We recovered {:,} reads total\".format(df.cnt.sum()))"
      ],
      "execution_count": 15,
      "outputs": [
        {
          "output_type": "stream",
          "text": [
            "We recovered 12,003,209 reads total\n"
          ],
          "name": "stdout"
        }
      ]
    },
    {
      "cell_type": "markdown",
      "metadata": {
        "id": "jNHvojlLlev0"
      },
      "source": [
        "### Genes from our reference"
      ]
    },
    {
      "cell_type": "code",
      "metadata": {
        "id": "j9hdm8sSlev0"
      },
      "source": [
        "gene = pd.read_csv(data_path + \"/transcripts.txt\", header=None, names = [\"gene\"])"
      ],
      "execution_count": 16,
      "outputs": []
    },
    {
      "cell_type": "code",
      "metadata": {
        "id": "5xMyHCB7lev2",
        "outputId": "dccbe134-45d4-4cf2-91a7-f1a970048c07",
        "colab": {
          "base_uri": "https://localhost:8080/",
          "height": 0
        }
      },
      "source": [
        "gene"
      ],
      "execution_count": 17,
      "outputs": [
        {
          "output_type": "execute_result",
          "data": {
            "text/html": [
              "<div>\n",
              "<style scoped>\n",
              "    .dataframe tbody tr th:only-of-type {\n",
              "        vertical-align: middle;\n",
              "    }\n",
              "\n",
              "    .dataframe tbody tr th {\n",
              "        vertical-align: top;\n",
              "    }\n",
              "\n",
              "    .dataframe thead th {\n",
              "        text-align: right;\n",
              "    }\n",
              "</style>\n",
              "<table border=\"1\" class=\"dataframe\">\n",
              "  <thead>\n",
              "    <tr style=\"text-align: right;\">\n",
              "      <th></th>\n",
              "      <th>gene</th>\n",
              "    </tr>\n",
              "  </thead>\n",
              "  <tbody>\n",
              "    <tr>\n",
              "      <th>0</th>\n",
              "      <td>N1</td>\n",
              "    </tr>\n",
              "    <tr>\n",
              "      <th>1</th>\n",
              "      <td>N2</td>\n",
              "    </tr>\n",
              "    <tr>\n",
              "      <th>2</th>\n",
              "      <td>RPP30</td>\n",
              "    </tr>\n",
              "  </tbody>\n",
              "</table>\n",
              "</div>"
            ],
            "text/plain": [
              "    gene\n",
              "0     N1\n",
              "1     N2\n",
              "2  RPP30"
            ]
          },
          "metadata": {
            "tags": []
          },
          "execution_count": 17
        }
      ]
    },
    {
      "cell_type": "code",
      "metadata": {
        "id": "hM1qLpoBBgJb",
        "outputId": "436d8fc7-9b76-440a-d394-74c8567fc179",
        "colab": {
          "base_uri": "https://localhost:8080/"
        }
      },
      "source": [
        "df.ecs.unique()"
      ],
      "execution_count": 18,
      "outputs": [
        {
          "output_type": "execute_result",
          "data": {
            "text/plain": [
              "array([0, 1, 2])"
            ]
          },
          "metadata": {
            "tags": []
          },
          "execution_count": 18
        }
      ]
    },
    {
      "cell_type": "markdown",
      "metadata": {
        "id": "SXWBZoujlewB"
      },
      "source": [
        "### Make well x gene matrix"
      ]
    },
    {
      "cell_type": "code",
      "metadata": {
        "id": "pRPlIB1AlewB"
      },
      "source": [
        "# Well by gene matrix\n",
        "bcs = df.bcs.values\n",
        "ecs = df.ecs.values\n",
        "cnt = df.cnt.values\n",
        "\n",
        "unique_ecs = np.unique(ecs)"
      ],
      "execution_count": 19,
      "outputs": []
    },
    {
      "cell_type": "code",
      "metadata": {
        "id": "7dKoAzSMlewD"
      },
      "source": [
        "mtx = make_mtx(bcs, ecs, cnt, unique_ecs)"
      ],
      "execution_count": 20,
      "outputs": []
    },
    {
      "cell_type": "code",
      "metadata": {
        "id": "qajM2TBeBgJh",
        "outputId": "de7180d8-ac44-4aa2-857b-f84ab4e1e6cc",
        "colab": {
          "base_uri": "https://localhost:8080/"
        }
      },
      "source": [
        "mtx[0:10]"
      ],
      "execution_count": 21,
      "outputs": [
        {
          "output_type": "execute_result",
          "data": {
            "text/plain": [
              "array([[ 27556, 128595,    148],\n",
              "       [    36,  51116,      2],\n",
              "       [    66, 149288,     16],\n",
              "       [    94,  15974,      1],\n",
              "       [    53,  86699,     20],\n",
              "       [ 76190,  14960,      4],\n",
              "       [129459,  16829,     16],\n",
              "       [165314, 105982,     31],\n",
              "       [  1101,  30952,      4],\n",
              "       [  4954, 158847,     39]])"
            ]
          },
          "metadata": {
            "tags": []
          },
          "execution_count": 21
        }
      ]
    },
    {
      "cell_type": "code",
      "metadata": {
        "id": "m0IBYjrPBgJj"
      },
      "source": [
        "obs = {\"bcs\": df.drop_duplicates(\"bcs\")[\"bcs\"].values}"
      ],
      "execution_count": 22,
      "outputs": []
    },
    {
      "cell_type": "markdown",
      "metadata": {
        "id": "zX_EYZWmlewK"
      },
      "source": [
        "____________________"
      ]
    },
    {
      "cell_type": "markdown",
      "metadata": {
        "id": "riBzGBSSlewK"
      },
      "source": [
        "### Make anndata object"
      ]
    },
    {
      "cell_type": "code",
      "metadata": {
        "id": "8v-oqwArlewK",
        "outputId": "1508eab1-7132-4822-a8ef-365842df5c21",
        "colab": {
          "base_uri": "https://localhost:8080/"
        }
      },
      "source": [
        "adata = anndata.AnnData(X=mtx, obs = obs, var = gene)\n",
        "adata.obs.index = adata.obs.bcs.values"
      ],
      "execution_count": 23,
      "outputs": [
        {
          "output_type": "stream",
          "text": [
            "/usr/local/lib/python3.6/dist-packages/anndata/_core/anndata.py:119: ImplicitModificationWarning: Transforming to str index.\n",
            "  warnings.warn(\"Transforming to str index.\", ImplicitModificationWarning)\n"
          ],
          "name": "stderr"
        }
      ]
    },
    {
      "cell_type": "code",
      "metadata": {
        "id": "Xg4XyHuuBgJq",
        "outputId": "af5772c3-1089-4993-c16c-c6a94c8f3066",
        "colab": {
          "base_uri": "https://localhost:8080/"
        }
      },
      "source": [
        "adata.write(\"temporary/trb.h5ad\")"
      ],
      "execution_count": 24,
      "outputs": [
        {
          "output_type": "stream",
          "text": [
            "/usr/local/lib/python3.6/dist-packages/anndata/_core/anndata.py:1192: FutureWarning: is_categorical is deprecated and will be removed in a future version.  Use is_categorical_dtype instead\n",
            "  if is_string_dtype(df[key]) and not is_categorical(df[key])\n"
          ],
          "name": "stderr"
        }
      ]
    },
    {
      "cell_type": "code",
      "metadata": {
        "id": "GoCL1WThBgJs",
        "outputId": "a62ed6c2-39b4-4475-cb87-2468802593c5",
        "colab": {
          "base_uri": "https://localhost:8080/"
        }
      },
      "source": [
        "adata"
      ],
      "execution_count": 25,
      "outputs": [
        {
          "output_type": "execute_result",
          "data": {
            "text/plain": [
              "AnnData object with n_obs × n_vars = 96 × 3\n",
              "    obs: 'bcs'\n",
              "    var: 'gene'"
            ]
          },
          "metadata": {
            "tags": []
          },
          "execution_count": 25
        }
      ]
    },
    {
      "cell_type": "code",
      "metadata": {
        "id": "4iktqreXBgJw",
        "outputId": "a126d296-060d-4ec3-9444-466798b39dcc",
        "colab": {
          "base_uri": "https://localhost:8080/",
          "height": 0
        }
      },
      "source": [
        "adata.var"
      ],
      "execution_count": 26,
      "outputs": [
        {
          "output_type": "execute_result",
          "data": {
            "text/html": [
              "<div>\n",
              "<style scoped>\n",
              "    .dataframe tbody tr th:only-of-type {\n",
              "        vertical-align: middle;\n",
              "    }\n",
              "\n",
              "    .dataframe tbody tr th {\n",
              "        vertical-align: top;\n",
              "    }\n",
              "\n",
              "    .dataframe thead th {\n",
              "        text-align: right;\n",
              "    }\n",
              "</style>\n",
              "<table border=\"1\" class=\"dataframe\">\n",
              "  <thead>\n",
              "    <tr style=\"text-align: right;\">\n",
              "      <th></th>\n",
              "      <th>gene</th>\n",
              "    </tr>\n",
              "  </thead>\n",
              "  <tbody>\n",
              "    <tr>\n",
              "      <th>0</th>\n",
              "      <td>N1</td>\n",
              "    </tr>\n",
              "    <tr>\n",
              "      <th>1</th>\n",
              "      <td>N2</td>\n",
              "    </tr>\n",
              "    <tr>\n",
              "      <th>2</th>\n",
              "      <td>RPP30</td>\n",
              "    </tr>\n",
              "  </tbody>\n",
              "</table>\n",
              "</div>"
            ],
            "text/plain": [
              "    gene\n",
              "0     N1\n",
              "1     N2\n",
              "2  RPP30"
            ]
          },
          "metadata": {
            "tags": []
          },
          "execution_count": 26
        }
      ]
    },
    {
      "cell_type": "markdown",
      "metadata": {
        "id": "0HVHJWcGBgJy"
      },
      "source": [
        "# Load map between"
      ]
    },
    {
      "cell_type": "code",
      "metadata": {
        "id": "XPAzJZpMBgJy"
      },
      "source": [
        "m = pd.read_csv(\"BLCSBGLKP_2020/data/trbseq/ss2trb.txt\", sep=\"\\t\", header=None, names=[\"ss_bcs\", \"trb_bcs\"])"
      ],
      "execution_count": 27,
      "outputs": []
    },
    {
      "cell_type": "code",
      "metadata": {
        "id": "LL2PXfy7BgJ0",
        "outputId": "a419fb6d-0bc9-41f8-f5cd-ddc2115e6c03",
        "colab": {
          "base_uri": "https://localhost:8080/",
          "height": 195
        }
      },
      "source": [
        "m.head()"
      ],
      "execution_count": 28,
      "outputs": [
        {
          "output_type": "execute_result",
          "data": {
            "text/html": [
              "<div>\n",
              "<style scoped>\n",
              "    .dataframe tbody tr th:only-of-type {\n",
              "        vertical-align: middle;\n",
              "    }\n",
              "\n",
              "    .dataframe tbody tr th {\n",
              "        vertical-align: top;\n",
              "    }\n",
              "\n",
              "    .dataframe thead th {\n",
              "        text-align: right;\n",
              "    }\n",
              "</style>\n",
              "<table border=\"1\" class=\"dataframe\">\n",
              "  <thead>\n",
              "    <tr style=\"text-align: right;\">\n",
              "      <th></th>\n",
              "      <th>ss_bcs</th>\n",
              "      <th>trb_bcs</th>\n",
              "    </tr>\n",
              "  </thead>\n",
              "  <tbody>\n",
              "    <tr>\n",
              "      <th>0</th>\n",
              "      <td>AAGCTCCTAGTTGCGC</td>\n",
              "      <td>TTCCCTGAACCTCGT</td>\n",
              "    </tr>\n",
              "    <tr>\n",
              "      <th>1</th>\n",
              "      <td>AAGCTCCTCAGATCTT</td>\n",
              "      <td>CTCCTGTACATATAT</td>\n",
              "    </tr>\n",
              "    <tr>\n",
              "      <th>2</th>\n",
              "      <td>AAGCTCCTCTGTTACA</td>\n",
              "      <td>ACGTTTCACTATAAT</td>\n",
              "    </tr>\n",
              "    <tr>\n",
              "      <th>3</th>\n",
              "      <td>AAGCTCCTTCATGACA</td>\n",
              "      <td>ATGACCGACCACTTT</td>\n",
              "    </tr>\n",
              "    <tr>\n",
              "      <th>4</th>\n",
              "      <td>AATCGTCTAGTTGCGC</td>\n",
              "      <td>TACTACTATTATAAT</td>\n",
              "    </tr>\n",
              "  </tbody>\n",
              "</table>\n",
              "</div>"
            ],
            "text/plain": [
              "             ss_bcs          trb_bcs\n",
              "0  AAGCTCCTAGTTGCGC  TTCCCTGAACCTCGT\n",
              "1  AAGCTCCTCAGATCTT  CTCCTGTACATATAT\n",
              "2  AAGCTCCTCTGTTACA  ACGTTTCACTATAAT\n",
              "3  AAGCTCCTTCATGACA  ATGACCGACCACTTT\n",
              "4  AATCGTCTAGTTGCGC  TACTACTATTATAAT"
            ]
          },
          "metadata": {
            "tags": []
          },
          "execution_count": 28
        }
      ]
    },
    {
      "cell_type": "markdown",
      "metadata": {
        "id": "blBeMIBoBgJ2"
      },
      "source": [
        "# Load KB file"
      ]
    },
    {
      "cell_type": "code",
      "metadata": {
        "id": "7cScFIOlBgJ2"
      },
      "source": [
        "kb_raw = anndata.read_h5ad(\"BLCSBGLKP_2020/data/kb/adata.h5ad\")\n",
        "kb_raw.obs.index = kb_raw.obs.bcs.values"
      ],
      "execution_count": 29,
      "outputs": []
    },
    {
      "cell_type": "code",
      "metadata": {
        "id": "i3t-5stHBgJ5",
        "outputId": "412fb7e7-5215-4350-f217-7182e6b03941",
        "colab": {
          "base_uri": "https://localhost:8080/"
        }
      },
      "source": [
        "kb_raw"
      ],
      "execution_count": 30,
      "outputs": [
        {
          "output_type": "execute_result",
          "data": {
            "text/plain": [
              "AnnData object with n_obs × n_vars = 768 × 5\n",
              "    obs: 'bcs', 'ecs', 'cnt', 'plate', 'well', 'lysate', 'Twist', 'ATCC_RNA', 'ATCC_viral', 'Twist_bool', 'ATCC_viral_bool', 'ATCC_RNA_bool'\n",
              "    var: 'gene'\n",
              "    obsm: 'X_pca'\n",
              "    layers: 'log1p', 'norm', 'raw', 'scale'"
            ]
          },
          "metadata": {
            "tags": []
          },
          "execution_count": 30
        }
      ]
    },
    {
      "cell_type": "code",
      "metadata": {
        "id": "GMQCxxHKBgJ7",
        "outputId": "616bbaf4-89f0-4f11-9230-ea713c91e376",
        "colab": {
          "base_uri": "https://localhost:8080/"
        }
      },
      "source": [
        "a = np.logical_and((kb_raw.obs.plate==\"Plate1\").values, (kb_raw.obs.lysate==\"HEK293\").values)\n",
        "b = np.logical_and(a, kb_raw.obs.ATCC_RNA.values==0)\n",
        "c = np.logical_and(b, kb_raw.obs.ATCC_viral.values==0)\n",
        "\n",
        "kb = kb_raw[b]"
      ],
      "execution_count": 31,
      "outputs": [
        {
          "output_type": "stream",
          "text": [
            "/usr/local/lib/python3.6/dist-packages/anndata/_core/anndata.py:1094: FutureWarning: is_categorical is deprecated and will be removed in a future version.  Use is_categorical_dtype instead\n",
            "  if not is_categorical(df_full[k]):\n"
          ],
          "name": "stderr"
        }
      ]
    },
    {
      "cell_type": "code",
      "metadata": {
        "id": "h0h0GdraBgJ9",
        "outputId": "b47841ae-cdf6-4915-f270-b492a80f3fb1",
        "colab": {
          "base_uri": "https://localhost:8080/"
        }
      },
      "source": [
        "kb = kb[kb.obs.loc[m.ss_bcs].index]\n",
        "adata = adata[adata.obs.loc[m.trb_bcs].index]"
      ],
      "execution_count": 32,
      "outputs": [
        {
          "output_type": "stream",
          "text": [
            "/usr/local/lib/python3.6/dist-packages/anndata/_core/anndata.py:1094: FutureWarning: is_categorical is deprecated and will be removed in a future version.  Use is_categorical_dtype instead\n",
            "  if not is_categorical(df_full[k]):\n"
          ],
          "name": "stderr"
        }
      ]
    },
    {
      "cell_type": "code",
      "metadata": {
        "id": "QJ03RXZiBgJ_"
      },
      "source": [
        "g = \"N1\"\n",
        "\n",
        "a = nd(adata.X[:,adata.var.gene==g])\n",
        "b = nd(kb.layers['raw'][:,kb.var.gene==g])"
      ],
      "execution_count": 33,
      "outputs": []
    },
    {
      "cell_type": "code",
      "metadata": {
        "id": "92xpk4PoBgKA",
        "outputId": "f22c238f-dbb8-4be8-8cbe-3bc5e20e7073",
        "colab": {
          "base_uri": "https://localhost:8080/",
          "height": 406
        }
      },
      "source": [
        "fig, ax = plt.subplots(figsize=(5,5))\n",
        "\n",
        "x = a\n",
        "y = b\n",
        "\n",
        "ax.scatter(x, y, color=\"k\")\n",
        "yex(ax)\n",
        "\n",
        "ax.set_xlabel(\"TRB-seq {} counts\".format(g))\n",
        "ax.set_ylabel(\"SwabSeq {} counts\".format(g[0]))\n",
        "ax.xaxis.set_major_formatter(mpl.ticker.StrMethodFormatter('{x:,.0f}'))\n",
        "ax.yaxis.set_major_formatter(mpl.ticker.StrMethodFormatter('{x:,.0f}'))\n",
        "\n",
        "for label in ax.get_xticklabels():\n",
        "    label.set_ha(\"right\")\n",
        "    label.set_rotation(45)\n",
        "    \n",
        "plt.savefig(\"./ss_v_trb.png\",bbox_inches='tight', dpi=300)\n",
        "plt.show()"
      ],
      "execution_count": 35,
      "outputs": [
        {
          "output_type": "display_data",
          "data": {
            "image/png": "[encoded data removed]",
            "text/plain": [
              "<Figure size 360x360 with 1 Axes>"
            ]
          },
          "metadata": {
            "tags": [],
            "image/png": {
              "width": 399,
              "height": 389
            },
            "needs_background": "light"
          }
        }
      ]
    },
    {
      "cell_type": "code",
      "metadata": {
        "id": "9_-zENP6BgKE"
      },
      "source": [
        ""
      ],
      "execution_count": 34,
      "outputs": []
    },
    {
      "cell_type": "code",
      "metadata": {
        "id": "wSiFBpI-BgKH"
      },
      "source": [
        ""
      ],
      "execution_count": 34,
      "outputs": []
    }
  ]
}